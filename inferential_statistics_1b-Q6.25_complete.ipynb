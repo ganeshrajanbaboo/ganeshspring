{
 "cells": [
  {
   "cell_type": "markdown",
   "metadata": {},
   "source": [
    "# Inferential Statistics Ib - Frequentism"
   ]
  },
  {
   "cell_type": "markdown",
   "metadata": {},
   "source": [
    "## Learning objectives"
   ]
  },
  {
   "cell_type": "markdown",
   "metadata": {},
   "source": [
    "Welcome to the second Frequentist inference mini-project! Over the course of working on this mini-project and the previous frequentist mini-project, you'll learn the fundamental concepts associated with frequentist inference. The following list includes the topics you will become familiar with as you work through these two mini-projects:\n",
    "* the _z_-statistic\n",
    "* the _t_-statistic\n",
    "* the difference and relationship between the two\n",
    "* the Central Limit Theorem, its assumptions and consequences\n",
    "* how to estimate the population mean and standard deviation from a sample\n",
    "* the concept of a sampling distribution of a test statistic, particularly for the mean\n",
    "* how to combine these concepts to calculate confidence intervals and p-values\n",
    "* how those confidence intervals and p-values allow you to perform hypothesis (or A/B) tests"
   ]
  },
  {
   "cell_type": "markdown",
   "metadata": {},
   "source": [
    "## Prerequisites"
   ]
  },
  {
   "cell_type": "markdown",
   "metadata": {},
   "source": [
    "* what a random variable is\n",
    "* what a probability density function (pdf) is\n",
    "* what the cumulative density function is\n",
    "* a high-level sense of what the Normal distribution\n",
    "\n",
    "If these concepts are new to you, please take a few moments to Google these topics in order to get a sense of what they are and how you might use them.\n",
    "\n",
    "These two notebooks were designed to bridge the gap between having a basic understanding of probability and random variables and being able to apply these concepts in Python. This second frequentist inference mini-project focuses on a real-world application of this type of inference to give you further practice using these concepts. "
   ]
  },
  {
   "cell_type": "markdown",
   "metadata": {},
   "source": [
    "In the previous notebook, we used only data from a known normal distribution. You'll now tackle real data, rather than simulated data, and answer some relevant real-world business problems using the data."
   ]
  },
  {
   "cell_type": "markdown",
   "metadata": {},
   "source": [
    "## Hospital medical charges"
   ]
  },
  {
   "cell_type": "markdown",
   "metadata": {},
   "source": [
    "Imagine that a hospital has hired you as their data analyst. An administrator is working on the hospital's business operations plan and needs you to help them answer some business questions. This mini-project, as well as the bootstrap and Bayesian inference mini-projects also found in this unit are designed to illustrate how each of the inferential statistics methods have their uses for different use cases. In this assignment notebook, you're going to use frequentist statistical inference on a data sample to answer the questions:\n",
    "* has the hospital's revenue stream fallen below a key threshold?\n",
    "* are patients with insurance really charged different amounts than those without?\n",
    "Answering that last question with a frequentist approach makes some assumptions, or requires some knowledge, about the two groups. In the next mini-project, you'll use bootstrapping to test that assumption. And in the final mini-project of the unit, you're going to create a model for simulating _individual_ charges (not a sampling distribution) that the hospital can use to model a range of scenarios."
   ]
  },
  {
   "cell_type": "markdown",
   "metadata": {},
   "source": [
    "We are going to use some data on medical charges obtained from [Kaggle](https://www.kaggle.com/easonlai/sample-insurance-claim-prediction-dataset). For the purposes of this exercise, assume the observations are the result of random sampling from our one hospital. Recall in the previous assignment, we introduced the Central Limit Theorem (CLT), and how it tells us that the distributions of sample statistics approach a normal distribution as $n$ increases. The amazing thing about this is that it applies to the sampling distributions of statistics that have been calculated from even highly non-normal distributions of data. Remember, also, that hypothesis testing is very much based on making inferences about such sample statistics. You're going to rely heavily on the CLT to apply frequentist (parametric) tests to answer the questions in this notebook."
   ]
  },
  {
   "cell_type": "code",
   "execution_count": 29,
   "metadata": {},
   "outputs": [],
   "source": [
    "import pandas as pd\n",
    "import numpy as np\n",
    "import matplotlib.pyplot as plt\n",
    "from scipy.stats import t\n",
    "from scipy import stats\n",
    "from numpy.random import seed\n",
    "medical = pd.read_csv('data/insurance2.csv')"
   ]
  },
  {
   "cell_type": "code",
   "execution_count": 30,
   "metadata": {},
   "outputs": [
    {
     "data": {
      "text/plain": [
       "(1338, 8)"
      ]
     },
     "execution_count": 30,
     "metadata": {},
     "output_type": "execute_result"
    }
   ],
   "source": [
    "medical.shape"
   ]
  },
  {
   "cell_type": "code",
   "execution_count": 31,
   "metadata": {},
   "outputs": [
    {
     "data": {
      "text/html": [
       "<div>\n",
       "<style scoped>\n",
       "    .dataframe tbody tr th:only-of-type {\n",
       "        vertical-align: middle;\n",
       "    }\n",
       "\n",
       "    .dataframe tbody tr th {\n",
       "        vertical-align: top;\n",
       "    }\n",
       "\n",
       "    .dataframe thead th {\n",
       "        text-align: right;\n",
       "    }\n",
       "</style>\n",
       "<table border=\"1\" class=\"dataframe\">\n",
       "  <thead>\n",
       "    <tr style=\"text-align: right;\">\n",
       "      <th></th>\n",
       "      <th>age</th>\n",
       "      <th>sex</th>\n",
       "      <th>bmi</th>\n",
       "      <th>children</th>\n",
       "      <th>smoker</th>\n",
       "      <th>region</th>\n",
       "      <th>charges</th>\n",
       "      <th>insuranceclaim</th>\n",
       "    </tr>\n",
       "  </thead>\n",
       "  <tbody>\n",
       "    <tr>\n",
       "      <td>0</td>\n",
       "      <td>19</td>\n",
       "      <td>0</td>\n",
       "      <td>27.900</td>\n",
       "      <td>0</td>\n",
       "      <td>1</td>\n",
       "      <td>3</td>\n",
       "      <td>16884.92400</td>\n",
       "      <td>1</td>\n",
       "    </tr>\n",
       "    <tr>\n",
       "      <td>1</td>\n",
       "      <td>18</td>\n",
       "      <td>1</td>\n",
       "      <td>33.770</td>\n",
       "      <td>1</td>\n",
       "      <td>0</td>\n",
       "      <td>2</td>\n",
       "      <td>1725.55230</td>\n",
       "      <td>1</td>\n",
       "    </tr>\n",
       "    <tr>\n",
       "      <td>2</td>\n",
       "      <td>28</td>\n",
       "      <td>1</td>\n",
       "      <td>33.000</td>\n",
       "      <td>3</td>\n",
       "      <td>0</td>\n",
       "      <td>2</td>\n",
       "      <td>4449.46200</td>\n",
       "      <td>0</td>\n",
       "    </tr>\n",
       "    <tr>\n",
       "      <td>3</td>\n",
       "      <td>33</td>\n",
       "      <td>1</td>\n",
       "      <td>22.705</td>\n",
       "      <td>0</td>\n",
       "      <td>0</td>\n",
       "      <td>1</td>\n",
       "      <td>21984.47061</td>\n",
       "      <td>0</td>\n",
       "    </tr>\n",
       "    <tr>\n",
       "      <td>4</td>\n",
       "      <td>32</td>\n",
       "      <td>1</td>\n",
       "      <td>28.880</td>\n",
       "      <td>0</td>\n",
       "      <td>0</td>\n",
       "      <td>1</td>\n",
       "      <td>3866.85520</td>\n",
       "      <td>1</td>\n",
       "    </tr>\n",
       "  </tbody>\n",
       "</table>\n",
       "</div>"
      ],
      "text/plain": [
       "   age  sex     bmi  children  smoker  region      charges  insuranceclaim\n",
       "0   19    0  27.900         0       1       3  16884.92400               1\n",
       "1   18    1  33.770         1       0       2   1725.55230               1\n",
       "2   28    1  33.000         3       0       2   4449.46200               0\n",
       "3   33    1  22.705         0       0       1  21984.47061               0\n",
       "4   32    1  28.880         0       0       1   3866.85520               1"
      ]
     },
     "execution_count": 31,
     "metadata": {},
     "output_type": "execute_result"
    }
   ],
   "source": [
    "medical.head()"
   ]
  },
  {
   "cell_type": "markdown",
   "metadata": {},
   "source": [
    "__Q:__ Plot the histogram of charges and calculate the mean and standard deviation. Comment on the appropriateness of these statistics for the data."
   ]
  },
  {
   "cell_type": "markdown",
   "metadata": {},
   "source": [
    "__A:__\n",
    "\n",
    "        mean of charges = 13270.422265141257\n",
    "        std dev of charges = 12105.484975561605\n",
    "        The histogram shows that the data is heavily left skewed. \n",
    "        Hence statistics mean and standard deviation will not be able to provide a description of this data\n",
    "        Expectedly, the box plot shows too many outliers.\n",
    "        This could mean that there is a selection bias or possibly there is uneven charging of the patients"
   ]
  },
  {
   "cell_type": "code",
   "execution_count": 60,
   "metadata": {},
   "outputs": [
    {
     "data": {
      "image/png": "[encoded data removed]",
      "text/plain": [
       "<Figure size 1080x360 with 2 Axes>"
      ]
     },
     "metadata": {
      "needs_background": "light"
     },
     "output_type": "display_data"
    }
   ],
   "source": [
    "plt.figure(figsize=(15,5))\n",
    "\n",
    "#Histogram of charges\n",
    "plt.subplot(1,2,1)\n",
    "#define a function for the histogram for use in a later context\n",
    "def hist(data=medical['charges']):\n",
    "    heights, binedges, _ = plt.hist(data, alpha=0.4)\n",
    "    bincenters = 0.5*(binedges[1:]+binedges[:-1])\n",
    "    bincenters = np.insert(bincenters, 0, binedges[0])\n",
    "    heights = np.insert(heights, 0, 0.)\n",
    "    _ = plt.plot(bincenters, heights,color='g')\n",
    "    m  = np.mean(data)\n",
    "    s1 = m - np.std(data)\n",
    "    s2 = m + np.std(data)\n",
    "    _ = plt.axvline(m, color='m')\n",
    "    plt.text(m, 0, 'mean', rotation=15, color='m')\n",
    "    _ = plt.axvline(s1, color='m', ls='--')\n",
    "    plt.text(s1, 0, '1 std left', rotation=15, color='m')\n",
    "    _ = plt.axvline(s2, color='m', ls='--')\n",
    "    plt.text(s2, 0, '1 std right', rotation=15, color='m')\n",
    "hist()\n",
    "plt.title('Histogram of charges')\n",
    "plt.xlabel(\"charges\")\n",
    "plt.ylabel(\"count\")\n",
    "#boxplot of charges\n",
    "plt.subplot(1,2,2)\n",
    "_ = plt.boxplot(medical['charges'])\n",
    "plt.ylabel(\"charges\")\n",
    "_ = plt.title('Box plot of charges')"
   ]
  },
  {
   "cell_type": "code",
   "execution_count": 33,
   "metadata": {},
   "outputs": [
    {
     "name": "stdout",
     "output_type": "stream",
     "text": [
      "mean of charges = 13270.422265141257\n",
      "std dev of charges = 12105.484975561605\n"
     ]
    }
   ],
   "source": [
    "#mean\n",
    "mean_charges = np.mean(medical['charges'])\n",
    "print(\"mean of charges = {}\".format(mean_charges))\n",
    "\n",
    "#standard deviation\n",
    "std_charges = np.std(medical['charges'])\n",
    "print(\"std dev of charges = {}\".format(std_charges))"
   ]
  },
  {
   "cell_type": "markdown",
   "metadata": {},
   "source": [
    "__Q:__ The administrator is concerned that the actual average charge has fallen below 12000, threatening the hospital's operational model. On the assumption that these data represent a random sample of charges, how would you justify that these data allow you to answer that question? And what would be the most appropriate frequentist test, of the ones discussed so far, to apply?"
   ]
  },
  {
   "cell_type": "markdown",
   "metadata": {},
   "source": [
    "__A:__ On the assumption that these data represent a random sample of charges, the observed mean of the sample 13270 is above the administrator's \"concern\" value of 12000. A 95% confidence test can be applied to check"
   ]
  },
  {
   "cell_type": "markdown",
   "metadata": {},
   "source": [
    "__Q:__ Given the nature of the administrator's concern, what is the appropriate confidence interval in this case? A one-sided or two-sided interval? Calculate the critical value and the relevant 95% confidence interval for the mean and comment on whether the administrator should be concerned?"
   ]
  },
  {
   "cell_type": "markdown",
   "metadata": {},
   "source": [
    "__A:__ Since the administrator's concern is that the actual average charge has fallen below 12000, I'd go for a one sided interval which tries to predict with 95% confidence if 50% of the values lie below the mean and 45% above it\n",
    "\n",
    "        Comments on administrator's concern:\n",
    "        12000 falls within the 95% critical value of 13641.61293351335. Hence the null can be rejected.\n",
    "        The administrator's concern is not significant.\n",
    "        The actual average charge was found with a 95% confidence to be 13641.61293351335"
   ]
  },
  {
   "cell_type": "code",
   "execution_count": 58,
   "metadata": {},
   "outputs": [
    {
     "data": {
      "image/png": "[encoded data removed]",
      "text/plain": [
       "<Figure size 432x288 with 1 Axes>"
      ]
     },
     "metadata": {
      "needs_background": "light"
     },
     "output_type": "display_data"
    }
   ],
   "source": [
    "seed(47)\n",
    "#Create a population of 100000 patients for the mean and standard deviation of the charges of the sample obtained \n",
    "#As we are extending the sample statistics into the population, we'll use a standard deviation with degrees of freedom n-1\n",
    "std_charges_pop = np.std(medical['charges'], ddof=1)\n",
    "pop_charges = np.random.normal(mean_charges, std_charges_pop, size=100000)\n",
    "\n",
    "#Define a charges sampler\n",
    "def charges_sampler(n):\n",
    "    return np.random.choice(pop_charges, n)\n",
    "\n",
    "#Define a mean of n sample trials\n",
    "def mean_sample(n=50):\n",
    "    return np.mean(charges_sampler(n))\n",
    "\n",
    "#Sample 50 means 500 times from the population created above\n",
    "samp_dist_500 = np.array([mean_sample() for _ in range(500)])\n",
    "\n",
    "#plot histogram of the sample and mark the mean and standard deviation\n",
    "hist(samp_dist_500)\n",
    "_ = plt.title('A sample distribution of charges')\n",
    "_ = plt.xlabel('sample charges')\n",
    "_ = plt.ylabel('count of patients')"
   ]
  },
  {
   "cell_type": "code",
   "execution_count": 35,
   "metadata": {},
   "outputs": [
    {
     "name": "stdout",
     "output_type": "stream",
     "text": [
      "12000 falls within the 95% critical value of 13641.61293351335. Hence the null can be rejected.\n",
      "The administrator's concern is not significant.\n",
      "The actual average charge was found with a 95% confidence to be 13641.61293351335\n"
     ]
    }
   ],
   "source": [
    "#The plot above was made under the CLT assumption that under large number of sampling the data approaches normal even\n",
    "#if the underlying population itself is not normal\n",
    "\n",
    "#Since the administrator's concern is that the average charge is less that 12000, we'll check using a one sided 95% confidence\n",
    "#interval\n",
    "\n",
    "#mean of the sampling distribution\n",
    "mean_samp_dist_500 = np.mean(samp_dist_500)\n",
    "#standard deviation of the sampling distribution\n",
    "std_samp_dist_500 = np.std(samp_dist_500)\n",
    "\n",
    "#Null hypothesis: The actual average charge is less that 12000\n",
    "\n",
    "#In a one sided interval we can get 95% coverage with 50% below the mean and 45% above the mean.\n",
    "#For a standard normal distribution the value which corresponds to 50% below the mean is −∞. \n",
    "#45% of the population above the mean is 1.64 (refer z table)\n",
    "#Using the above, the upper limit to the confidence interval is:\n",
    "upper_conf = mean_samp_dist_500 + 1.64 * std_samp_dist_500/np.sqrt(50) #there are 50 means in a sample\n",
    "if upper_conf > 12000:\n",
    "    print(\"12000 falls within the 95% critical value of {}. Hence the null can be rejected.\".format(upper_conf))\n",
    "    print(\"The administrator's concern is not significant.\")\n",
    "    print(\"The actual average charge was found with a 95% confidence to be {}\".format(upper_conf))\n",
    "else:\n",
    "    print(\"12000 does not fall within the 95% critical value of {}. Hence the null cannot be rejected.\".format(upper_conf) )\n",
    "    print(\"The administrator's concern is significant!\")\n",
    "    print(\"The actual average charge was found with a 95% confidence to be {}\".format(upper_conf))"
   ]
  },
  {
   "cell_type": "code",
   "execution_count": null,
   "metadata": {},
   "outputs": [],
   "source": []
  },
  {
   "cell_type": "markdown",
   "metadata": {},
   "source": [
    "The administrator then wants to know whether people with insurance really are charged a different amount to those without.\n",
    "\n",
    "__Q:__ State the null and alternative hypothesis here. Use the _t_-test for the difference between means where the pooled standard deviation of the two groups is given by\n",
    "\\begin{equation}\n",
    "s_p = \\sqrt{\\frac{(n_0 - 1)s^2_0 + (n_1 - 1)s^2_1}{n_0 + n_1 - 2}}\n",
    "\\end{equation}\n",
    "\n",
    "and the *t* test statistic is then given by\n",
    "\n",
    "\\begin{equation}\n",
    "t = \\frac{\\bar{x}_0 - \\bar{x}_1}{s_p \\sqrt{1/n_0 + 1/n_1}}.\n",
    "\\end{equation}\n",
    "\n",
    "What assumption about the variances of the two groups are we making here?"
   ]
  },
  {
   "cell_type": "markdown",
   "metadata": {},
   "source": [
    "__A:__ The null hypothesis is that the people with insurance are charged the same amount to those without(μ0=μ1).\n",
    "       The alternate hypothesis is that the people with insurance are charged differently from those without(μ0≠μ1).  \n",
    "       The assumption is that the variances of the two groups are equal"
   ]
  },
  {
   "cell_type": "markdown",
   "metadata": {},
   "source": [
    "__Q:__ Perform this hypothesis test both manually, using the above formulae, and then using the appropriate function from [scipy.stats](https://docs.scipy.org/doc/scipy/reference/stats.html#statistical-tests) (hint, you're looking for a function to perform a _t_-test on two independent samples). For the manual approach, calculate the value of the test statistic and then its probability (the p-value). Verify you get the same results from both."
   ]
  },
  {
   "cell_type": "markdown",
   "metadata": {},
   "source": [
    "__A:__ The test statistic and p-value obtained pertain to rejection of null hypothesis, which means there is evidence against the claim that people with insurance are charged the same amount to those without"
   ]
  },
  {
   "cell_type": "code",
   "execution_count": 53,
   "metadata": {},
   "outputs": [
    {
     "data": {
      "text/plain": [
       "Text(0, 0.5, 'count')"
      ]
     },
     "execution_count": 53,
     "metadata": {},
     "output_type": "execute_result"
    },
    {
     "data": {
      "image/png": "[encoded data removed]",
      "text/plain": [
       "<Figure size 1080x144 with 2 Axes>"
      ]
     },
     "metadata": {
      "needs_background": "light"
     },
     "output_type": "display_data"
    }
   ],
   "source": [
    "#Separate ins(insurance) and noins(without insurance) data\n",
    "ins, noins = medical[medical['insuranceclaim'] == 1], medical[medical['insuranceclaim'] == 0]\n",
    "\n",
    "#Calculate means and standard deviations\n",
    "ins_mean = np.mean(ins['charges'])\n",
    "ins_std = np.std(ins['charges'], ddof=1) #estimate of the population\n",
    "\n",
    "noins_mean = np.mean(noins['charges'])\n",
    "noins_std = np.std(noins['charges'], ddof=1) #estimate of the population\n",
    "\n",
    "#Create a normalized population distribution of ins and noins\n",
    "seed(47)\n",
    "pop_ins = np.random.normal(ins_mean, ins_std, size=50000)\n",
    "pop_noins = np.random.normal(noins_mean, noins_std, size=50000)\n",
    "\n",
    "#Sample 50 means 40 times from the population for the t distribution\n",
    "seed(47)\n",
    "ins_samp_dist_t = np.array([np.mean(np.random.choice(pop_ins, 50)) for _ in range(40)])\n",
    "noins_samp_dist_t = np.array([np.mean(np.random.choice(pop_noins, 50)) for _ in range(40)])\n",
    "\n",
    "#plot the t distributions\n",
    "plt.figure(figsize=(15,2))\n",
    "plt.subplot(1,2,1)\n",
    "ins_heights_t, ins_binedges_t, ins_patches_t = plt.hist(ins_samp_dist_t)\n",
    "plt.title(\"t distribution of charges of patients with insurance\")\n",
    "plt.xlabel(\"charges\")\n",
    "plt.ylabel(\"count\")\n",
    "\n",
    "plt.subplot(1,2,2)\n",
    "noins_heights_t, noins_binedges_t, noins_patches_t = plt.hist(noins_samp_dist_t)\n",
    "plt.title(\"t distribution of charges of patients without insurance\")\n",
    "plt.xlabel(\"charges\")\n",
    "plt.ylabel(\"count\")"
   ]
  },
  {
   "cell_type": "code",
   "execution_count": 37,
   "metadata": {},
   "outputs": [
    {
     "name": "stdout",
     "output_type": "stream",
     "text": [
      "t-statistic = 22.876826318381138\n"
     ]
    }
   ],
   "source": [
    "#means of the samples\n",
    "x0 = np.mean(ins_samp_dist_t)\n",
    "x1 = np.mean(noins_samp_dist_t)\n",
    "#standard deviations of the samples\n",
    "s0 = np.std(ins_samp_dist_t)\n",
    "s1 = np.std(noins_samp_dist_t)\n",
    "\n",
    "#pooled standard deviation\n",
    "sp = np.sqrt((s0**2 + s1**2)/2) #n0 = n1 = 40\n",
    "\n",
    "#pooled t-statistic\n",
    "ts = (x0-x1)/(sp*np.sqrt(2/40))\n",
    "\n",
    "print(\"t-statistic = {}\".format(ts))\n"
   ]
  },
  {
   "cell_type": "code",
   "execution_count": 44,
   "metadata": {},
   "outputs": [
    {
     "name": "stdout",
     "output_type": "stream",
     "text": [
      "pval = 0.0\n"
     ]
    }
   ],
   "source": [
    "#for t-statistic 22.8768, for 78 (40+40-2) degrees of freedom \n",
    "pval = (1 - t.cdf(22.876826318381138, 78)) * 2\n",
    "print(\"pval = {}\".format(pval))\n",
    "\n",
    "# pval is too small that a value 0 is returned. Trying the t-table, the two tailed t-table doesn't have a value.\n",
    "#for a t-statistic 3.46 however, for 80 degrees of freedom, the two tailed t-tabe has a value 0.001. \n",
    "#Hence our pvalue is understood to be extremely low and the null can be rejected"
   ]
  },
  {
   "cell_type": "code",
   "execution_count": 43,
   "metadata": {},
   "outputs": [
    {
     "data": {
      "text/plain": [
       "Ttest_indResult(statistic=22.876826318381138, pvalue=2.4525066183289764e-36)"
      ]
     },
     "execution_count": 43,
     "metadata": {},
     "output_type": "execute_result"
    }
   ],
   "source": [
    "stats.ttest_ind_from_stats(x0, s0, 40, x1, s1, 40)"
   ]
  },
  {
   "cell_type": "markdown",
   "metadata": {},
   "source": [
    "Congratulations! Hopefully you got the exact same numerical results. This shows that you correctly calculated the numbers by hand. Secondly, you used the correct function and saw that it's much easier to use. All you need to do pass your data to it."
   ]
  },
  {
   "cell_type": "markdown",
   "metadata": {},
   "source": [
    "__Q:__ In the above calculations, we assumed the sample variances were equal. We may well suspect they are not (we'll explore this in another assignment). The calculation becomes a little more complicated to do by hand in this case, but we now know of a helpful function. Check the documentation for the function to tell it not to assume equal variances and perform the test again."
   ]
  },
  {
   "cell_type": "markdown",
   "metadata": {},
   "source": [
    "__A:__ the t-statistic remains the same with the assumption of unequal variances, but the p-value increases slightly. Yet, the null is to be rejected"
   ]
  },
  {
   "cell_type": "code",
   "execution_count": 46,
   "metadata": {},
   "outputs": [
    {
     "data": {
      "text/plain": [
       "Ttest_indResult(statistic=22.876826318381138, pvalue=5.133797726797438e-29)"
      ]
     },
     "execution_count": 46,
     "metadata": {},
     "output_type": "execute_result"
    }
   ],
   "source": [
    "#when equal variances are not assumed\n",
    "stats.ttest_ind_from_stats(x0, s0, 40, x1, s1, 40, equal_var=False)"
   ]
  },
  {
   "cell_type": "markdown",
   "metadata": {},
   "source": [
    "__Q:__ Conceptual question: look through the documentation for statistical test functions in scipy.stats. You'll see the above _t_-test for a sample, but can you see an equivalent one for performing a *z*-test from a sample? Comment on your answer."
   ]
  },
  {
   "cell_type": "markdown",
   "metadata": {},
   "source": [
    "__A:__ The pooled vairances are calculated for small samples and hence only t-test can be applied "
   ]
  },
  {
   "cell_type": "markdown",
   "metadata": {},
   "source": [
    "## Learning outcomes"
   ]
  },
  {
   "cell_type": "markdown",
   "metadata": {},
   "source": [
    "Having completed this project notebook, you now have good hands-on experience:\n",
    "* using the central limit theorem to help you apply frequentist techniques to answer questions that pertain to very non-normally distributed data from the real world\n",
    "* performing inference using such data to answer business questions\n",
    "* forming a hypothesis and framing the null and alternative hypotheses\n",
    "* testing this using a _t_-test"
   ]
  }
 ],
 "metadata": {
  "kernelspec": {
   "display_name": "Python 3",
   "language": "python",
   "name": "python3"
  },
  "language_info": {
   "codemirror_mode": {
    "name": "ipython",
    "version": 3
   },
   "file_extension": ".py",
   "mimetype": "text/x-python",
   "name": "python",
   "nbconvert_exporter": "python",
   "pygments_lexer": "ipython3",
   "version": "3.7.4"
  }
 },
 "nbformat": 4,
 "nbformat_minor": 2
}
