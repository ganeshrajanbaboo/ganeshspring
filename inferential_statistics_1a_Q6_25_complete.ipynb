{
  "nbformat": 4,
  "nbformat_minor": 0,
  "metadata": {
    "kernelspec": {
      "display_name": "Python 3",
      "language": "python",
      "name": "python3"
    },
    "language_info": {
      "codemirror_mode": {
        "name": "ipython",
        "version": 3
      },
      "file_extension": ".py",
      "mimetype": "text/x-python",
      "name": "python",
      "nbconvert_exporter": "python",
      "pygments_lexer": "ipython3",
      "version": "3.7.4"
    },
    "colab": {
      "name": "inferential_statistics_1a-Q6.25_complete.ipynb",
      "provenance": []
    }
  },
  "cells": [
    {
      "cell_type": "markdown",
      "metadata": {
        "id": "1Rxl_Gb4X_yJ",
        "colab_type": "text"
      },
      "source": [
        "# Inferential Statistics Ia - Frequentism"
      ]
    },
    {
      "cell_type": "markdown",
      "metadata": {
        "id": "mzpn6fReX_yR",
        "colab_type": "text"
      },
      "source": [
        "## Learning objectives"
      ]
    },
    {
      "cell_type": "markdown",
      "metadata": {
        "id": "ENUNEF4rX_yU",
        "colab_type": "text"
      },
      "source": [
        "Welcome to the first Frequentist inference mini-project! Over the course of working on this mini-project and the next frequentist mini-project, you'll learn the fundamental concepts associated with frequentist inference. The following list includes the topics you will become familiar with as you work through these two mini-projects:\n",
        "* the _z_-statistic\n",
        "* the _t_-statistic\n",
        "* the difference and relationship between the two\n",
        "* the Central Limit Theorem, including its assumptions and consequences\n",
        "* how to estimate the population mean and standard deviation from a sample\n",
        "* the concept of a sampling distribution of a test statistic, particularly for the mean\n",
        "* how to combine these concepts to calculate a confidence interval"
      ]
    },
    {
      "cell_type": "markdown",
      "metadata": {
        "id": "scM7xshPX_yW",
        "colab_type": "text"
      },
      "source": [
        "## Prerequisites"
      ]
    },
    {
      "cell_type": "markdown",
      "metadata": {
        "id": "8h1-pxcfX_yY",
        "colab_type": "text"
      },
      "source": [
        "For working through this notebook, you are expected to have a very basic understanding of:\n",
        "* what a random variable is\n",
        "* what a probability density function (pdf) is\n",
        "* what the cumulative density function is\n",
        "* a high-level sense of what the Normal distribution\n",
        "\n",
        "If these concepts are new to you, please take a few moments to Google these topics in order to get a sense of what they are and how you might use them.\n",
        "\n",
        "While it's great if you have previous knowledge about sampling distributions, this assignment will introduce the concept and set you up to practice working using sampling distributions. This notebook was designed to bridge the gap between having a basic understanding of probability and random variables and being able to apply these concepts in Python. The second frequentist inference mini-project focuses on a real-world application of this type of inference to give you further practice using these concepts. "
      ]
    },
    {
      "cell_type": "markdown",
      "metadata": {
        "id": "wvAKp2OxX_yb",
        "colab_type": "text"
      },
      "source": [
        "For this notebook, we will use data sampled from a known normal distribution. This allows us to compare our results with theoretical expectations."
      ]
    },
    {
      "cell_type": "markdown",
      "metadata": {
        "id": "_m_SEJhOX_yd",
        "colab_type": "text"
      },
      "source": [
        "## I An introduction to sampling from the Normal distribution"
      ]
    },
    {
      "cell_type": "markdown",
      "metadata": {
        "id": "JaBGzPTwX_yf",
        "colab_type": "text"
      },
      "source": [
        "First, let's explore the ways we can generate the Normal distribution. While there's a fair amount of interest in [sklearn](https://scikit-learn.org/stable/) within the machine learning community, you're likely to have heard of [scipy](https://docs.scipy.org/doc/scipy-0.15.1/reference/index.html) if you're coming from the sciences. For this assignment, you'll use [scipy.stats](https://docs.scipy.org/doc/scipy-0.15.1/reference/tutorial/stats.html) to complete your work."
      ]
    },
    {
      "cell_type": "code",
      "metadata": {
        "id": "QtOj8zeOX_yi",
        "colab_type": "code",
        "colab": {}
      },
      "source": [
        "from scipy.stats import norm\n",
        "from scipy.stats import t\n",
        "import numpy as np\n",
        "import pandas as pd\n",
        "from numpy.random import seed\n",
        "import matplotlib.pyplot as plt"
      ],
      "execution_count": 0,
      "outputs": []
    },
    {
      "cell_type": "markdown",
      "metadata": {
        "id": "MCmIP-OVX_yr",
        "colab_type": "text"
      },
      "source": [
        "__Q:__ Call up the documentation for the `norm` function imported above. What is the second listed method?"
      ]
    },
    {
      "cell_type": "code",
      "metadata": {
        "id": "iWn_laxtX_yt",
        "colab_type": "code",
        "colab": {
          "base_uri": "https://localhost:8080/",
          "height": 1000
        },
        "outputId": "95c126b1-7f15-435d-e294-806bc98f2582"
      },
      "source": [
        "help(norm)"
      ],
      "execution_count": 35,
      "outputs": [
        {
          "output_type": "stream",
          "text": [
            "Help on norm_gen in module scipy.stats._continuous_distns object:\n",
            "\n",
            "class norm_gen(scipy.stats._distn_infrastructure.rv_continuous)\n",
            " |  A normal continuous random variable.\n",
            " |  \n",
            " |  The location (``loc``) keyword specifies the mean.\n",
            " |  The scale (``scale``) keyword specifies the standard deviation.\n",
            " |  \n",
            " |  %(before_notes)s\n",
            " |  \n",
            " |  Notes\n",
            " |  -----\n",
            " |  The probability density function for `norm` is:\n",
            " |  \n",
            " |  .. math::\n",
            " |  \n",
            " |      f(x) = \\frac{\\exp(-x^2/2)}{\\sqrt{2\\pi}}\n",
            " |  \n",
            " |  for a real number :math:`x`.\n",
            " |  \n",
            " |  %(after_notes)s\n",
            " |  \n",
            " |  %(example)s\n",
            " |  \n",
            " |  Method resolution order:\n",
            " |      norm_gen\n",
            " |      scipy.stats._distn_infrastructure.rv_continuous\n",
            " |      scipy.stats._distn_infrastructure.rv_generic\n",
            " |      builtins.object\n",
            " |  \n",
            " |  Methods defined here:\n",
            " |  \n",
            " |  fit(self, data, **kwds)\n",
            " |      Return MLEs for shape (if applicable), location, and scale\n",
            " |      parameters from data.\n",
            " |      \n",
            " |      MLE stands for Maximum Likelihood Estimate.  Starting estimates for\n",
            " |      the fit are given by input arguments; for any arguments not provided\n",
            " |      with starting estimates, ``self._fitstart(data)`` is called to generate\n",
            " |      such.\n",
            " |      \n",
            " |      One can hold some parameters fixed to specific values by passing in\n",
            " |      keyword arguments ``f0``, ``f1``, ..., ``fn`` (for shape parameters)\n",
            " |      and ``floc`` and ``fscale`` (for location and scale parameters,\n",
            " |      respectively).\n",
            " |      \n",
            " |      Parameters\n",
            " |      ----------\n",
            " |      data : array_like\n",
            " |          Data to use in calculating the MLEs.\n",
            " |      args : floats, optional\n",
            " |          Starting value(s) for any shape-characterizing arguments (those not\n",
            " |          provided will be determined by a call to ``_fitstart(data)``).\n",
            " |          No default value.\n",
            " |      kwds : floats, optional\n",
            " |          Starting values for the location and scale parameters; no default.\n",
            " |          Special keyword arguments are recognized as holding certain\n",
            " |          parameters fixed:\n",
            " |      \n",
            " |          - f0...fn : hold respective shape parameters fixed.\n",
            " |            Alternatively, shape parameters to fix can be specified by name.\n",
            " |            For example, if ``self.shapes == \"a, b\"``, ``fa``and ``fix_a``\n",
            " |            are equivalent to ``f0``, and ``fb`` and ``fix_b`` are\n",
            " |            equivalent to ``f1``.\n",
            " |      \n",
            " |          - floc : hold location parameter fixed to specified value.\n",
            " |      \n",
            " |          - fscale : hold scale parameter fixed to specified value.\n",
            " |      \n",
            " |          - optimizer : The optimizer to use.  The optimizer must take ``func``,\n",
            " |            and starting position as the first two arguments,\n",
            " |            plus ``args`` (for extra arguments to pass to the\n",
            " |            function to be optimized) and ``disp=0`` to suppress\n",
            " |            output as keyword arguments.\n",
            " |      \n",
            " |      Returns\n",
            " |      -------\n",
            " |      mle_tuple : tuple of floats\n",
            " |          MLEs for any shape parameters (if applicable), followed by those\n",
            " |          for location and scale. For most random variables, shape statistics\n",
            " |          will be returned, but there are exceptions (e.g. ``norm``).\n",
            " |      \n",
            " |      Notes\n",
            " |      -----\n",
            " |      This function uses explicit formulas for the maximum likelihood\n",
            " |      estimation of the normal distribution parameters, so the\n",
            " |      `optimizer` argument is ignored.\n",
            " |      \n",
            " |      Examples\n",
            " |      --------\n",
            " |      \n",
            " |      Generate some data to fit: draw random variates from the `beta`\n",
            " |      distribution\n",
            " |      \n",
            " |      >>> from scipy.stats import beta\n",
            " |      >>> a, b = 1., 2.\n",
            " |      >>> x = beta.rvs(a, b, size=1000)\n",
            " |      \n",
            " |      Now we can fit all four parameters (``a``, ``b``, ``loc`` and ``scale``):\n",
            " |      \n",
            " |      >>> a1, b1, loc1, scale1 = beta.fit(x)\n",
            " |      \n",
            " |      We can also use some prior knowledge about the dataset: let's keep\n",
            " |      ``loc`` and ``scale`` fixed:\n",
            " |      \n",
            " |      >>> a1, b1, loc1, scale1 = beta.fit(x, floc=0, fscale=1)\n",
            " |      >>> loc1, scale1\n",
            " |      (0, 1)\n",
            " |      \n",
            " |      We can also keep shape parameters fixed by using ``f``-keywords. To\n",
            " |      keep the zero-th shape parameter ``a`` equal 1, use ``f0=1`` or,\n",
            " |      equivalently, ``fa=1``:\n",
            " |      \n",
            " |      >>> a1, b1, loc1, scale1 = beta.fit(x, fa=1, floc=0, fscale=1)\n",
            " |      >>> a1\n",
            " |      1\n",
            " |      \n",
            " |      Not all distributions return estimates for the shape parameters.\n",
            " |      ``norm`` for example just returns estimates for location and scale:\n",
            " |      \n",
            " |      >>> from scipy.stats import norm\n",
            " |      >>> x = norm.rvs(a, b, size=1000, random_state=123)\n",
            " |      >>> loc1, scale1 = norm.fit(x)\n",
            " |      >>> loc1, scale1\n",
            " |      (0.92087172783841631, 2.0015750750324668)\n",
            " |  \n",
            " |  ----------------------------------------------------------------------\n",
            " |  Methods inherited from scipy.stats._distn_infrastructure.rv_continuous:\n",
            " |  \n",
            " |  __init__(self, momtype=1, a=None, b=None, xtol=1e-14, badvalue=None, name=None, longname=None, shapes=None, extradoc=None, seed=None)\n",
            " |      Initialize self.  See help(type(self)) for accurate signature.\n",
            " |  \n",
            " |  cdf(self, x, *args, **kwds)\n",
            " |      Cumulative distribution function of the given RV.\n",
            " |      \n",
            " |      Parameters\n",
            " |      ----------\n",
            " |      x : array_like\n",
            " |          quantiles\n",
            " |      arg1, arg2, arg3,... : array_like\n",
            " |          The shape parameter(s) for the distribution (see docstring of the\n",
            " |          instance object for more information)\n",
            " |      loc : array_like, optional\n",
            " |          location parameter (default=0)\n",
            " |      scale : array_like, optional\n",
            " |          scale parameter (default=1)\n",
            " |      \n",
            " |      Returns\n",
            " |      -------\n",
            " |      cdf : ndarray\n",
            " |          Cumulative distribution function evaluated at `x`\n",
            " |  \n",
            " |  expect(self, func=None, args=(), loc=0, scale=1, lb=None, ub=None, conditional=False, **kwds)\n",
            " |      Calculate expected value of a function with respect to the\n",
            " |      distribution by numerical integration.\n",
            " |      \n",
            " |      The expected value of a function ``f(x)`` with respect to a\n",
            " |      distribution ``dist`` is defined as::\n",
            " |      \n",
            " |                  ub\n",
            " |          E[f(x)] = Integral(f(x) * dist.pdf(x)),\n",
            " |                  lb\n",
            " |      \n",
            " |      where ``ub`` and ``lb`` are arguments and ``x`` has the ``dist.pdf(x)``\n",
            " |      distribution. If the bounds ``lb`` and ``ub`` correspond to the\n",
            " |      support of the distribution, e.g. ``[-inf, inf]`` in the default\n",
            " |      case, then the integral is the unrestricted expectation of ``f(x)``.\n",
            " |      Also, the function ``f(x)`` may be defined such that ``f(x)`` is ``0``\n",
            " |      outside a finite interval in which case the expectation is\n",
            " |      calculated within the finite range ``[lb, ub]``.\n",
            " |      \n",
            " |      Parameters\n",
            " |      ----------\n",
            " |      func : callable, optional\n",
            " |          Function for which integral is calculated. Takes only one argument.\n",
            " |          The default is the identity mapping f(x) = x.\n",
            " |      args : tuple, optional\n",
            " |          Shape parameters of the distribution.\n",
            " |      loc : float, optional\n",
            " |          Location parameter (default=0).\n",
            " |      scale : float, optional\n",
            " |          Scale parameter (default=1).\n",
            " |      lb, ub : scalar, optional\n",
            " |          Lower and upper bound for integration. Default is set to the\n",
            " |          support of the distribution.\n",
            " |      conditional : bool, optional\n",
            " |          If True, the integral is corrected by the conditional probability\n",
            " |          of the integration interval.  The return value is the expectation\n",
            " |          of the function, conditional on being in the given interval.\n",
            " |          Default is False.\n",
            " |      \n",
            " |      Additional keyword arguments are passed to the integration routine.\n",
            " |      \n",
            " |      Returns\n",
            " |      -------\n",
            " |      expect : float\n",
            " |          The calculated expected value.\n",
            " |      \n",
            " |      Notes\n",
            " |      -----\n",
            " |      The integration behavior of this function is inherited from\n",
            " |      `scipy.integrate.quad`. Neither this function nor\n",
            " |      `scipy.integrate.quad` can verify whether the integral exists or is\n",
            " |      finite. For example ``cauchy(0).mean()`` returns ``np.nan`` and\n",
            " |      ``cauchy(0).expect()`` returns ``0.0``.\n",
            " |      \n",
            " |      Examples\n",
            " |      --------\n",
            " |      \n",
            " |      To understand the effect of the bounds of integration consider\n",
            " |      \n",
            " |      >>> from scipy.stats import expon\n",
            " |      >>> expon(1).expect(lambda x: 1, lb=0.0, ub=2.0)\n",
            " |      0.6321205588285578\n",
            " |      \n",
            " |      This is close to\n",
            " |      \n",
            " |      >>> expon(1).cdf(2.0) - expon(1).cdf(0.0)\n",
            " |      0.6321205588285577\n",
            " |      \n",
            " |      If ``conditional=True``\n",
            " |      \n",
            " |      >>> expon(1).expect(lambda x: 1, lb=0.0, ub=2.0, conditional=True)\n",
            " |      1.0000000000000002\n",
            " |      \n",
            " |      The slight deviation from 1 is due to numerical integration.\n",
            " |  \n",
            " |  fit_loc_scale(self, data, *args)\n",
            " |      Estimate loc and scale parameters from data using 1st and 2nd moments.\n",
            " |      \n",
            " |      Parameters\n",
            " |      ----------\n",
            " |      data : array_like\n",
            " |          Data to fit.\n",
            " |      arg1, arg2, arg3,... : array_like\n",
            " |          The shape parameter(s) for the distribution (see docstring of the\n",
            " |          instance object for more information).\n",
            " |      \n",
            " |      Returns\n",
            " |      -------\n",
            " |      Lhat : float\n",
            " |          Estimated location parameter for the data.\n",
            " |      Shat : float\n",
            " |          Estimated scale parameter for the data.\n",
            " |  \n",
            " |  isf(self, q, *args, **kwds)\n",
            " |      Inverse survival function (inverse of `sf`) at q of the given RV.\n",
            " |      \n",
            " |      Parameters\n",
            " |      ----------\n",
            " |      q : array_like\n",
            " |          upper tail probability\n",
            " |      arg1, arg2, arg3,... : array_like\n",
            " |          The shape parameter(s) for the distribution (see docstring of the\n",
            " |          instance object for more information)\n",
            " |      loc : array_like, optional\n",
            " |          location parameter (default=0)\n",
            " |      scale : array_like, optional\n",
            " |          scale parameter (default=1)\n",
            " |      \n",
            " |      Returns\n",
            " |      -------\n",
            " |      x : ndarray or scalar\n",
            " |          Quantile corresponding to the upper tail probability q.\n",
            " |  \n",
            " |  logcdf(self, x, *args, **kwds)\n",
            " |      Log of the cumulative distribution function at x of the given RV.\n",
            " |      \n",
            " |      Parameters\n",
            " |      ----------\n",
            " |      x : array_like\n",
            " |          quantiles\n",
            " |      arg1, arg2, arg3,... : array_like\n",
            " |          The shape parameter(s) for the distribution (see docstring of the\n",
            " |          instance object for more information)\n",
            " |      loc : array_like, optional\n",
            " |          location parameter (default=0)\n",
            " |      scale : array_like, optional\n",
            " |          scale parameter (default=1)\n",
            " |      \n",
            " |      Returns\n",
            " |      -------\n",
            " |      logcdf : array_like\n",
            " |          Log of the cumulative distribution function evaluated at x\n",
            " |  \n",
            " |  logpdf(self, x, *args, **kwds)\n",
            " |      Log of the probability density function at x of the given RV.\n",
            " |      \n",
            " |      This uses a more numerically accurate calculation if available.\n",
            " |      \n",
            " |      Parameters\n",
            " |      ----------\n",
            " |      x : array_like\n",
            " |          quantiles\n",
            " |      arg1, arg2, arg3,... : array_like\n",
            " |          The shape parameter(s) for the distribution (see docstring of the\n",
            " |          instance object for more information)\n",
            " |      loc : array_like, optional\n",
            " |          location parameter (default=0)\n",
            " |      scale : array_like, optional\n",
            " |          scale parameter (default=1)\n",
            " |      \n",
            " |      Returns\n",
            " |      -------\n",
            " |      logpdf : array_like\n",
            " |          Log of the probability density function evaluated at x\n",
            " |  \n",
            " |  logsf(self, x, *args, **kwds)\n",
            " |      Log of the survival function of the given RV.\n",
            " |      \n",
            " |      Returns the log of the \"survival function,\" defined as (1 - `cdf`),\n",
            " |      evaluated at `x`.\n",
            " |      \n",
            " |      Parameters\n",
            " |      ----------\n",
            " |      x : array_like\n",
            " |          quantiles\n",
            " |      arg1, arg2, arg3,... : array_like\n",
            " |          The shape parameter(s) for the distribution (see docstring of the\n",
            " |          instance object for more information)\n",
            " |      loc : array_like, optional\n",
            " |          location parameter (default=0)\n",
            " |      scale : array_like, optional\n",
            " |          scale parameter (default=1)\n",
            " |      \n",
            " |      Returns\n",
            " |      -------\n",
            " |      logsf : ndarray\n",
            " |          Log of the survival function evaluated at `x`.\n",
            " |  \n",
            " |  nnlf(self, theta, x)\n",
            " |      Return negative loglikelihood function.\n",
            " |      \n",
            " |      Notes\n",
            " |      -----\n",
            " |      This is ``-sum(log pdf(x, theta), axis=0)`` where `theta` are the\n",
            " |      parameters (including loc and scale).\n",
            " |  \n",
            " |  pdf(self, x, *args, **kwds)\n",
            " |      Probability density function at x of the given RV.\n",
            " |      \n",
            " |      Parameters\n",
            " |      ----------\n",
            " |      x : array_like\n",
            " |          quantiles\n",
            " |      arg1, arg2, arg3,... : array_like\n",
            " |          The shape parameter(s) for the distribution (see docstring of the\n",
            " |          instance object for more information)\n",
            " |      loc : array_like, optional\n",
            " |          location parameter (default=0)\n",
            " |      scale : array_like, optional\n",
            " |          scale parameter (default=1)\n",
            " |      \n",
            " |      Returns\n",
            " |      -------\n",
            " |      pdf : ndarray\n",
            " |          Probability density function evaluated at x\n",
            " |  \n",
            " |  ppf(self, q, *args, **kwds)\n",
            " |      Percent point function (inverse of `cdf`) at q of the given RV.\n",
            " |      \n",
            " |      Parameters\n",
            " |      ----------\n",
            " |      q : array_like\n",
            " |          lower tail probability\n",
            " |      arg1, arg2, arg3,... : array_like\n",
            " |          The shape parameter(s) for the distribution (see docstring of the\n",
            " |          instance object for more information)\n",
            " |      loc : array_like, optional\n",
            " |          location parameter (default=0)\n",
            " |      scale : array_like, optional\n",
            " |          scale parameter (default=1)\n",
            " |      \n",
            " |      Returns\n",
            " |      -------\n",
            " |      x : array_like\n",
            " |          quantile corresponding to the lower tail probability q.\n",
            " |  \n",
            " |  sf(self, x, *args, **kwds)\n",
            " |      Survival function (1 - `cdf`) at x of the given RV.\n",
            " |      \n",
            " |      Parameters\n",
            " |      ----------\n",
            " |      x : array_like\n",
            " |          quantiles\n",
            " |      arg1, arg2, arg3,... : array_like\n",
            " |          The shape parameter(s) for the distribution (see docstring of the\n",
            " |          instance object for more information)\n",
            " |      loc : array_like, optional\n",
            " |          location parameter (default=0)\n",
            " |      scale : array_like, optional\n",
            " |          scale parameter (default=1)\n",
            " |      \n",
            " |      Returns\n",
            " |      -------\n",
            " |      sf : array_like\n",
            " |          Survival function evaluated at x\n",
            " |  \n",
            " |  ----------------------------------------------------------------------\n",
            " |  Methods inherited from scipy.stats._distn_infrastructure.rv_generic:\n",
            " |  \n",
            " |  __call__(self, *args, **kwds)\n",
            " |      Freeze the distribution for the given arguments.\n",
            " |      \n",
            " |      Parameters\n",
            " |      ----------\n",
            " |      arg1, arg2, arg3,... : array_like\n",
            " |          The shape parameter(s) for the distribution.  Should include all\n",
            " |          the non-optional arguments, may include ``loc`` and ``scale``.\n",
            " |      \n",
            " |      Returns\n",
            " |      -------\n",
            " |      rv_frozen : rv_frozen instance\n",
            " |          The frozen distribution.\n",
            " |  \n",
            " |  __getstate__(self)\n",
            " |  \n",
            " |  __setstate__(self, state)\n",
            " |  \n",
            " |  entropy(self, *args, **kwds)\n",
            " |      Differential entropy of the RV.\n",
            " |      \n",
            " |      Parameters\n",
            " |      ----------\n",
            " |      arg1, arg2, arg3,... : array_like\n",
            " |          The shape parameter(s) for the distribution (see docstring of the\n",
            " |          instance object for more information).\n",
            " |      loc : array_like, optional\n",
            " |          Location parameter (default=0).\n",
            " |      scale : array_like, optional  (continuous distributions only).\n",
            " |          Scale parameter (default=1).\n",
            " |      \n",
            " |      Notes\n",
            " |      -----\n",
            " |      Entropy is defined base `e`:\n",
            " |      \n",
            " |      >>> drv = rv_discrete(values=((0, 1), (0.5, 0.5)))\n",
            " |      >>> np.allclose(drv.entropy(), np.log(2.0))\n",
            " |      True\n",
            " |  \n",
            " |  freeze(self, *args, **kwds)\n",
            " |      Freeze the distribution for the given arguments.\n",
            " |      \n",
            " |      Parameters\n",
            " |      ----------\n",
            " |      arg1, arg2, arg3,... : array_like\n",
            " |          The shape parameter(s) for the distribution.  Should include all\n",
            " |          the non-optional arguments, may include ``loc`` and ``scale``.\n",
            " |      \n",
            " |      Returns\n",
            " |      -------\n",
            " |      rv_frozen : rv_frozen instance\n",
            " |          The frozen distribution.\n",
            " |  \n",
            " |  interval(self, alpha, *args, **kwds)\n",
            " |      Confidence interval with equal areas around the median.\n",
            " |      \n",
            " |      Parameters\n",
            " |      ----------\n",
            " |      alpha : array_like of float\n",
            " |          Probability that an rv will be drawn from the returned range.\n",
            " |          Each value should be in the range [0, 1].\n",
            " |      arg1, arg2, ... : array_like\n",
            " |          The shape parameter(s) for the distribution (see docstring of the\n",
            " |          instance object for more information).\n",
            " |      loc : array_like, optional\n",
            " |          location parameter, Default is 0.\n",
            " |      scale : array_like, optional\n",
            " |          scale parameter, Default is 1.\n",
            " |      \n",
            " |      Returns\n",
            " |      -------\n",
            " |      a, b : ndarray of float\n",
            " |          end-points of range that contain ``100 * alpha %`` of the rv's\n",
            " |          possible values.\n",
            " |  \n",
            " |  mean(self, *args, **kwds)\n",
            " |      Mean of the distribution.\n",
            " |      \n",
            " |      Parameters\n",
            " |      ----------\n",
            " |      arg1, arg2, arg3,... : array_like\n",
            " |          The shape parameter(s) for the distribution (see docstring of the\n",
            " |          instance object for more information)\n",
            " |      loc : array_like, optional\n",
            " |          location parameter (default=0)\n",
            " |      scale : array_like, optional\n",
            " |          scale parameter (default=1)\n",
            " |      \n",
            " |      Returns\n",
            " |      -------\n",
            " |      mean : float\n",
            " |          the mean of the distribution\n",
            " |  \n",
            " |  median(self, *args, **kwds)\n",
            " |      Median of the distribution.\n",
            " |      \n",
            " |      Parameters\n",
            " |      ----------\n",
            " |      arg1, arg2, arg3,... : array_like\n",
            " |          The shape parameter(s) for the distribution (see docstring of the\n",
            " |          instance object for more information)\n",
            " |      loc : array_like, optional\n",
            " |          Location parameter, Default is 0.\n",
            " |      scale : array_like, optional\n",
            " |          Scale parameter, Default is 1.\n",
            " |      \n",
            " |      Returns\n",
            " |      -------\n",
            " |      median : float\n",
            " |          The median of the distribution.\n",
            " |      \n",
            " |      See Also\n",
            " |      --------\n",
            " |      rv_discrete.ppf\n",
            " |          Inverse of the CDF\n",
            " |  \n",
            " |  moment(self, n, *args, **kwds)\n",
            " |      n-th order non-central moment of distribution.\n",
            " |      \n",
            " |      Parameters\n",
            " |      ----------\n",
            " |      n : int, n >= 1\n",
            " |          Order of moment.\n",
            " |      arg1, arg2, arg3,... : float\n",
            " |          The shape parameter(s) for the distribution (see docstring of the\n",
            " |          instance object for more information).\n",
            " |      loc : array_like, optional\n",
            " |          location parameter (default=0)\n",
            " |      scale : array_like, optional\n",
            " |          scale parameter (default=1)\n",
            " |  \n",
            " |  rvs(self, *args, **kwds)\n",
            " |      Random variates of given type.\n",
            " |      \n",
            " |      Parameters\n",
            " |      ----------\n",
            " |      arg1, arg2, arg3,... : array_like\n",
            " |          The shape parameter(s) for the distribution (see docstring of the\n",
            " |          instance object for more information).\n",
            " |      loc : array_like, optional\n",
            " |          Location parameter (default=0).\n",
            " |      scale : array_like, optional\n",
            " |          Scale parameter (default=1).\n",
            " |      size : int or tuple of ints, optional\n",
            " |          Defining number of random variates (default is 1).\n",
            " |      random_state : None or int or ``np.random.RandomState`` instance, optional\n",
            " |          If int or RandomState, use it for drawing the random variates.\n",
            " |          If None, rely on ``self.random_state``.\n",
            " |          Default is None.\n",
            " |      \n",
            " |      Returns\n",
            " |      -------\n",
            " |      rvs : ndarray or scalar\n",
            " |          Random variates of given `size`.\n",
            " |  \n",
            " |  stats(self, *args, **kwds)\n",
            " |      Some statistics of the given RV.\n",
            " |      \n",
            " |      Parameters\n",
            " |      ----------\n",
            " |      arg1, arg2, arg3,... : array_like\n",
            " |          The shape parameter(s) for the distribution (see docstring of the\n",
            " |          instance object for more information)\n",
            " |      loc : array_like, optional\n",
            " |          location parameter (default=0)\n",
            " |      scale : array_like, optional (continuous RVs only)\n",
            " |          scale parameter (default=1)\n",
            " |      moments : str, optional\n",
            " |          composed of letters ['mvsk'] defining which moments to compute:\n",
            " |          'm' = mean,\n",
            " |          'v' = variance,\n",
            " |          's' = (Fisher's) skew,\n",
            " |          'k' = (Fisher's) kurtosis.\n",
            " |          (default is 'mv')\n",
            " |      \n",
            " |      Returns\n",
            " |      -------\n",
            " |      stats : sequence\n",
            " |          of requested moments.\n",
            " |  \n",
            " |  std(self, *args, **kwds)\n",
            " |      Standard deviation of the distribution.\n",
            " |      \n",
            " |      Parameters\n",
            " |      ----------\n",
            " |      arg1, arg2, arg3,... : array_like\n",
            " |          The shape parameter(s) for the distribution (see docstring of the\n",
            " |          instance object for more information)\n",
            " |      loc : array_like, optional\n",
            " |          location parameter (default=0)\n",
            " |      scale : array_like, optional\n",
            " |          scale parameter (default=1)\n",
            " |      \n",
            " |      Returns\n",
            " |      -------\n",
            " |      std : float\n",
            " |          standard deviation of the distribution\n",
            " |  \n",
            " |  support(self, *args, **kwargs)\n",
            " |      Return the support of the distribution.\n",
            " |      \n",
            " |      Parameters\n",
            " |      ----------\n",
            " |      arg1, arg2, ... : array_like\n",
            " |          The shape parameter(s) for the distribution (see docstring of the\n",
            " |          instance object for more information).\n",
            " |      loc : array_like, optional\n",
            " |          location parameter, Default is 0.\n",
            " |      scale : array_like, optional\n",
            " |          scale parameter, Default is 1.\n",
            " |      Returns\n",
            " |      -------\n",
            " |      a, b : float\n",
            " |          end-points of the distribution's support.\n",
            " |  \n",
            " |  var(self, *args, **kwds)\n",
            " |      Variance of the distribution.\n",
            " |      \n",
            " |      Parameters\n",
            " |      ----------\n",
            " |      arg1, arg2, arg3,... : array_like\n",
            " |          The shape parameter(s) for the distribution (see docstring of the\n",
            " |          instance object for more information)\n",
            " |      loc : array_like, optional\n",
            " |          location parameter (default=0)\n",
            " |      scale : array_like, optional\n",
            " |          scale parameter (default=1)\n",
            " |      \n",
            " |      Returns\n",
            " |      -------\n",
            " |      var : float\n",
            " |          the variance of the distribution\n",
            " |  \n",
            " |  ----------------------------------------------------------------------\n",
            " |  Data descriptors inherited from scipy.stats._distn_infrastructure.rv_generic:\n",
            " |  \n",
            " |  __dict__\n",
            " |      dictionary for instance variables (if defined)\n",
            " |  \n",
            " |  __weakref__\n",
            " |      list of weak references to the object (if defined)\n",
            " |  \n",
            " |  random_state\n",
            " |      Get or set the RandomState object for generating random variates.\n",
            " |      \n",
            " |      This can be either None or an existing RandomState object.\n",
            " |      \n",
            " |      If None (or np.random), use the RandomState singleton used by np.random.\n",
            " |      If already a RandomState instance, use it.\n",
            " |      If an int, use a new RandomState instance seeded with seed.\n",
            "\n"
          ],
          "name": "stdout"
        }
      ]
    },
    {
      "cell_type": "markdown",
      "metadata": {
        "id": "sfxmAsuDX_y6",
        "colab_type": "text"
      },
      "source": [
        "__A:__ cdf"
      ]
    },
    {
      "cell_type": "markdown",
      "metadata": {
        "id": "Wmy-kcsEX_y8",
        "colab_type": "text"
      },
      "source": [
        "__Q:__ Use the method that generates random variates to draw five samples from the standard normal distribution."
      ]
    },
    {
      "cell_type": "markdown",
      "metadata": {
        "id": "iJKlgumYX_y-",
        "colab_type": "text"
      },
      "source": [
        "__A:__ array([-0.84800948,  1.30590636,  0.92420797,  0.6404118 , -1.05473698])"
      ]
    },
    {
      "cell_type": "code",
      "metadata": {
        "id": "XuIgz6FTX_zB",
        "colab_type": "code",
        "colab": {}
      },
      "source": [
        "seed(47)\n",
        "# draw five samples here\n",
        "rv = norm.rvs(size=5)"
      ],
      "execution_count": 0,
      "outputs": []
    },
    {
      "cell_type": "markdown",
      "metadata": {
        "id": "--GWQnVhX_zM",
        "colab_type": "text"
      },
      "source": [
        "__Q:__ What is the mean of this sample? Is it exactly equal to the value you expected? Hint: the sample was drawn from the standard normal distribution."
      ]
    },
    {
      "cell_type": "markdown",
      "metadata": {
        "id": "GiEDrTogX_zQ",
        "colab_type": "text"
      },
      "source": [
        "__A:__ mean of the sample is 0.19355593334131074. It was drawn from a standard normal distribution between -1 and 1. The mean 0.193556 is expected and near centered at mea=median=0"
      ]
    },
    {
      "cell_type": "code",
      "metadata": {
        "id": "LPYkMTe2X_zT",
        "colab_type": "code",
        "colab": {
          "base_uri": "https://localhost:8080/",
          "height": 34
        },
        "outputId": "201e2c1f-e432-4e6d-f744-a62667841c8b"
      },
      "source": [
        "# Calculate and print the mean here, hint: use np.mean()\n",
        "mean = np.mean(rv)\n",
        "print(mean)"
      ],
      "execution_count": 37,
      "outputs": [
        {
          "output_type": "stream",
          "text": [
            "0.19355593334131074\n"
          ],
          "name": "stdout"
        }
      ]
    },
    {
      "cell_type": "markdown",
      "metadata": {
        "id": "JUgCeBeTX_za",
        "colab_type": "text"
      },
      "source": [
        "__Q:__ What is the standard deviation of these numbers? Calculate this manually here as $\\sqrt{\\frac{\\sum_i(x_i - \\bar{x})^2}{n}}$. Hint: np.sqrt() and np.sum() will be useful here and remember that numpy supports [broadcasting](https://docs.scipy.org/doc/numpy/user/basics.broadcasting.html)."
      ]
    },
    {
      "cell_type": "markdown",
      "metadata": {
        "id": "ahgGPM8EX_zc",
        "colab_type": "text"
      },
      "source": [
        "__A:__ standard deviation of rv = 0.9606195639478641"
      ]
    },
    {
      "cell_type": "code",
      "metadata": {
        "id": "ulezf6c_X_ze",
        "colab_type": "code",
        "colab": {
          "base_uri": "https://localhost:8080/",
          "height": 34
        },
        "outputId": "4c5d3491-e1f0-4c46-fc95-79a26dfcb535"
      },
      "source": [
        "std = np.sqrt((np.sum((rv - mean) ** 2))/5)\n",
        "print(std)"
      ],
      "execution_count": 38,
      "outputs": [
        {
          "output_type": "stream",
          "text": [
            "0.9606195639478641\n"
          ],
          "name": "stdout"
        }
      ]
    },
    {
      "cell_type": "markdown",
      "metadata": {
        "id": "SlaXPUhZX_zo",
        "colab_type": "text"
      },
      "source": [
        "Here we have calculated the actual standard deviation of a small (size 5) data set. But in this case, this small data set is actually a sample from our larger (infinite) population. In this case, the population is infinite because we could keep drawing our normal random variates until our computers die. In general, the sample mean we calculate will not be equal to the population mean (as we saw above). A consequence of this is that the sum of squares of the deviations from the _population_ mean will be bigger than the sum of squares of the deviations from the _sample_ mean. In other words, the sum of squares of the deviations from the _sample_ mean is too small to give an unbiased estimate of the _population_ variance. An example of this effect is given [here](https://en.wikipedia.org/wiki/Bessel%27s_correction#Source_of_bias). Scaling our estimate of the variance by the factor $n/(n-1)$ gives an unbiased estimator of the population variance. This factor is known as [Bessel's correction](https://en.wikipedia.org/wiki/Bessel%27s_correction). The consequence of this is that the $n$ in the denominator is replaced by $n-1$.\n",
        "\n",
        "__Q:__ If all we had to go on was our five samples, what would be our best estimate of the population standard deviation? Use Bessel's correction ($n-1$ in the denominator), thus $\\sqrt{\\frac{\\sum_i(x_i - \\bar{x})^2}{n-1}}$."
      ]
    },
    {
      "cell_type": "markdown",
      "metadata": {
        "id": "qCw8bC0XX_zs",
        "colab_type": "text"
      },
      "source": [
        "__A:__ standard deviation with Bessel's correction: 1.0740053227518152"
      ]
    },
    {
      "cell_type": "code",
      "metadata": {
        "id": "aPKTHkN0X_zv",
        "colab_type": "code",
        "colab": {
          "base_uri": "https://localhost:8080/",
          "height": 34
        },
        "outputId": "32e4682d-a211-4d61-bb0c-e97167b6f52e"
      },
      "source": [
        "stdnminus1 = np.sqrt((np.sum((rv - mean) ** 2))/4)\n",
        "print(stdnminus1)"
      ],
      "execution_count": 39,
      "outputs": [
        {
          "output_type": "stream",
          "text": [
            "1.0740053227518152\n"
          ],
          "name": "stdout"
        }
      ]
    },
    {
      "cell_type": "markdown",
      "metadata": {
        "id": "gRdJb73fX_z3",
        "colab_type": "text"
      },
      "source": [
        "__Q:__ Now use numpy's std function to calculate the standard deviation of our random samples. Which of the above standard deviations did it return?"
      ]
    },
    {
      "cell_type": "markdown",
      "metadata": {
        "id": "VvUT8ugJX_z7",
        "colab_type": "text"
      },
      "source": [
        "__A:__ standard deviation using numpy's std function is 0.9606195639478641. It returned the value without Bessel's correction"
      ]
    },
    {
      "cell_type": "code",
      "metadata": {
        "id": "ItYl8FWOX_z-",
        "colab_type": "code",
        "colab": {
          "base_uri": "https://localhost:8080/",
          "height": 34
        },
        "outputId": "c15a9830-5e3a-44b3-d50f-c9944e12be8d"
      },
      "source": [
        "#standard deviation using numpy's std function\n",
        "stdnp = np.std(rv)\n",
        "print(stdnp)"
      ],
      "execution_count": 40,
      "outputs": [
        {
          "output_type": "stream",
          "text": [
            "0.9606195639478641\n"
          ],
          "name": "stdout"
        }
      ]
    },
    {
      "cell_type": "markdown",
      "metadata": {
        "id": "pdBdPyA2X_0E",
        "colab_type": "text"
      },
      "source": [
        "__Q:__ Consult the documentation for np.std() to see how to apply the correction for estimating the population parameter and verify this produces the expected result."
      ]
    },
    {
      "cell_type": "markdown",
      "metadata": {
        "id": "iOXb2KxZX_0G",
        "colab_type": "text"
      },
      "source": [
        "__A:__ as per the documentation of np.std(), the parameter ddof (delta degrees of freedom) when supplied with a value 1 allows for Bessel's correction and now the result was found as expected"
      ]
    },
    {
      "cell_type": "code",
      "metadata": {
        "id": "Az8t1DzPX_0J",
        "colab_type": "code",
        "colab": {}
      },
      "source": [
        "?np.std"
      ],
      "execution_count": 0,
      "outputs": []
    },
    {
      "cell_type": "code",
      "metadata": {
        "id": "fxnz-5nmX_0S",
        "colab_type": "code",
        "colab": {
          "base_uri": "https://localhost:8080/",
          "height": 34
        },
        "outputId": "2abf1e7f-f947-4f82-e7ad-4e1078c584a6"
      },
      "source": [
        "stdnpbesscorr = np.std(rv, ddof=1)\n",
        "print(stdnpbesscorr)"
      ],
      "execution_count": 42,
      "outputs": [
        {
          "output_type": "stream",
          "text": [
            "1.0740053227518152\n"
          ],
          "name": "stdout"
        }
      ]
    },
    {
      "cell_type": "markdown",
      "metadata": {
        "id": "CVS1wd9NX_0a",
        "colab_type": "text"
      },
      "source": [
        "### Summary of section"
      ]
    },
    {
      "cell_type": "markdown",
      "metadata": {
        "id": "IQ7FtdsfX_0c",
        "colab_type": "text"
      },
      "source": [
        "In this section, you've been introduced to the scipy.stats package and used it to draw a small sample from the standard normal distribution. You've calculated the average (the mean) of this sample and seen that this is not exactly equal to the expected population parameter (which we know because we're generating the random variates from a specific, known distribution). You've been introduced to two ways of calculating the standard deviation; one uses $n$ in the denominator and the other uses $n-1$ (Bessel's correction). You've also seen which of these calculations np.std() performs by default and how to get it to generate the other."
      ]
    },
    {
      "cell_type": "markdown",
      "metadata": {
        "id": "WDm7rMhnX_0e",
        "colab_type": "text"
      },
      "source": [
        "You use $n$ as the denominator if you want to calculate the standard deviation of a sequence of numbers. You use $n-1$ if you are using this sequence of numbers to estimate the population parameter. This brings us to some terminology that can be a little confusing.\n",
        "\n",
        "The population parameter is traditionally written as $\\sigma$ and the sample statistic as $s$. Rather unhelpfully, $s$ is also called the sample standard deviation (using $n-1$) whereas the standard deviation of the sample uses $n$. That's right, we have the sample standard deviation and the standard deviation of the sample and they're not the same thing!\n",
        "\n",
        "The sample standard deviation\n",
        "\\begin{equation}\n",
        "s = \\sqrt{\\frac{\\sum_i(x_i - \\bar{x})^2}{n-1}} \\approx \\sigma,\n",
        "\\end{equation}\n",
        "is our best (unbiased) estimate of the population parameter ($\\sigma$).\n",
        "\n",
        "If your data set _is_ your entire population, you simply want to calculate the population parameter, $\\sigma$, via\n",
        "\\begin{equation}\n",
        "\\sigma = \\sqrt{\\frac{\\sum_i(x_i - \\bar{x})^2}{n}}\n",
        "\\end{equation}\n",
        "as you have complete, full knowledge of your population. In other words, your sample _is_ your population. It's worth noting at this point if your sample is your population then you know absolutely everything about your population, there are no probabilities really to calculate and no inference to be done.\n",
        "\n",
        "If, however, you have sampled _from_ your population, you only have partial knowledge of the state of your population and the standard deviation of your sample is not an unbiased estimate of the standard deviation of the population, in which case you seek to estimate that population parameter via the sample standard deviation, which uses the $n-1$ denominator."
      ]
    },
    {
      "cell_type": "markdown",
      "metadata": {
        "id": "c3aPZJLiX_0g",
        "colab_type": "text"
      },
      "source": [
        "You're now firmly in frequentist theory territory. Great work so far! Now let's dive deeper."
      ]
    },
    {
      "cell_type": "markdown",
      "metadata": {
        "id": "2_8wiDwgX_0i",
        "colab_type": "text"
      },
      "source": [
        "## II Sampling distributions"
      ]
    },
    {
      "cell_type": "markdown",
      "metadata": {
        "id": "tu73i-zxX_0j",
        "colab_type": "text"
      },
      "source": [
        "So far we've been dealing with the concept of taking a sample from a population to infer the population parameters. One statistic we calculated for a sample was the mean. As our samples will be expected to vary from one draw to another, so will our sample statistics. If we were to perform repeat draws of size $n$ and calculate the mean of each, we would expect to obtain a distribution of values. This is the sampling distribution of the mean. The Central Limit Theorem (CLT) tells us that such a distribution will approach a normal distribution as $n$ increases. For the sampling distribution of the mean, the standard deviation of this distribution is given by\n",
        "\n",
        "\\begin{equation}\n",
        "\\sigma_{mean} = \\frac{\\sigma}{\\sqrt n}\n",
        "\\end{equation}\n",
        "\n",
        "where $\\sigma_{mean}$ is the standard deviation of the sampling distribution of the mean and $\\sigma$ is the standard deviation of the population (the population parameter)."
      ]
    },
    {
      "cell_type": "markdown",
      "metadata": {
        "id": "bM6s9cLDX_0l",
        "colab_type": "text"
      },
      "source": [
        "This is important because typically we are dealing with samples from populations and all we know about the population is what we see in the sample. From this sample, we want to make inferences about the population. We may do this, for example, by looking at the histogram of the values and by calculating the mean and standard deviation (as estimates of the population parameters), and so we are intrinsically interested in how these quantities vary across samples. In other words, now that we've taken one sample of size $n$ and made some claims about the general population, what if we were to take another sample of size $n$? Would we get the same result? Would we make the same claims about the general population? This brings us to a fundamental question: _when we make some inference about a population based on our sample, how confident can we be that we've got it 'right'?_"
      ]
    },
    {
      "cell_type": "markdown",
      "metadata": {
        "id": "pnYcvWQlX_0n",
        "colab_type": "text"
      },
      "source": [
        "Let's give our normal distribution a little flavor. Also, for didactic purposes, the standard normal distribution, with its variance equal to its standard deviation of one, would not be a great illustration of a key point. Let us imagine we live in a town of 50000 people and we know the height of everyone in this town. We will have 50000 numbers that tell us everything about our population. We'll simulate these numbers now and put ourselves in one particular town, called 'town 47', where the population mean height is 172 cm and population standard deviation is 5 cm."
      ]
    },
    {
      "cell_type": "code",
      "metadata": {
        "id": "u5KCBTSCX_0p",
        "colab_type": "code",
        "colab": {}
      },
      "source": [
        "seed(47)\n",
        "pop_heights = norm.rvs(172, 5, size=50000)"
      ],
      "execution_count": 0,
      "outputs": []
    },
    {
      "cell_type": "code",
      "metadata": {
        "id": "q64zvEYbX_0v",
        "colab_type": "code",
        "colab": {
          "base_uri": "https://localhost:8080/",
          "height": 295
        },
        "outputId": "5deb1cad-a94c-4361-8a35-3c8105e139d8"
      },
      "source": [
        "_ = plt.hist(pop_heights, bins=30)\n",
        "_ = plt.xlabel('height (cm)')\n",
        "_ = plt.ylabel('number of people')\n",
        "_ = plt.title('Distribution of heights in entire town population')\n",
        "_ = plt.axvline(172, color='r')\n",
        "_ = plt.axvline(172+5, color='r', linestyle='--')\n",
        "_ = plt.axvline(172-5, color='r', linestyle='--')\n",
        "_ = plt.axvline(172+10, color='r', linestyle='-.')\n",
        "_ = plt.axvline(172-10, color='r', linestyle='-.')"
      ],
      "execution_count": 44,
      "outputs": [
        {
          "output_type": "display_data",
          "data": {
            "image/png": "[encoded data removed]",
            "text/plain": [
              "<Figure size 432x288 with 1 Axes>"
            ]
          },
          "metadata": {
            "tags": []
          }
        }
      ]
    },
    {
      "cell_type": "markdown",
      "metadata": {
        "id": "JTTeeWkjX_02",
        "colab_type": "text"
      },
      "source": [
        "Now, 50000 people is rather a lot to chase after with a tape measure. If all you want to know is the average height of the townsfolk, then can you just go out and measure a sample to get a pretty good estimate of the average height?"
      ]
    },
    {
      "cell_type": "code",
      "metadata": {
        "id": "YBKXnW-DX_04",
        "colab_type": "code",
        "colab": {}
      },
      "source": [
        "def townsfolk_sampler(n):\n",
        "    return np.random.choice(pop_heights, n)"
      ],
      "execution_count": 0,
      "outputs": []
    },
    {
      "cell_type": "markdown",
      "metadata": {
        "id": "PzDsQlZLX_0_",
        "colab_type": "text"
      },
      "source": [
        "Let's say you go out one day and randomly sample 10 people to measure."
      ]
    },
    {
      "cell_type": "code",
      "metadata": {
        "id": "99Ug4CfSX_1B",
        "colab_type": "code",
        "colab": {}
      },
      "source": [
        "seed(47)\n",
        "daily_sample1 = townsfolk_sampler(10)"
      ],
      "execution_count": 0,
      "outputs": []
    },
    {
      "cell_type": "code",
      "metadata": {
        "id": "U3AJ-verX_1G",
        "colab_type": "code",
        "colab": {
          "base_uri": "https://localhost:8080/",
          "height": 295
        },
        "outputId": "c2dc67cb-63f5-4a3d-c9a6-6c6edb2635c2"
      },
      "source": [
        "_ = plt.hist(daily_sample1, bins=10)\n",
        "_ = plt.xlabel('height (cm)')\n",
        "_ = plt.ylabel('number of people')\n",
        "_ = plt.title('Distribution of heights in sample size 10')"
      ],
      "execution_count": 47,
      "outputs": [
        {
          "output_type": "display_data",
          "data": {
            "image/png": "[encoded data removed]",
            "text/plain": [
              "<Figure size 432x288 with 1 Axes>"
            ]
          },
          "metadata": {
            "tags": []
          }
        }
      ]
    },
    {
      "cell_type": "markdown",
      "metadata": {
        "id": "0IWn252MX_1O",
        "colab_type": "text"
      },
      "source": [
        "The sample distribution doesn't look much like what we know (but wouldn't know in real-life) the population distribution looks like. What do we get for the mean?"
      ]
    },
    {
      "cell_type": "code",
      "metadata": {
        "id": "bpttnZ42X_1Q",
        "colab_type": "code",
        "colab": {}
      },
      "source": [
        ""
      ],
      "execution_count": 0,
      "outputs": []
    },
    {
      "cell_type": "code",
      "metadata": {
        "id": "UfIC9LcxX_1W",
        "colab_type": "code",
        "colab": {
          "base_uri": "https://localhost:8080/",
          "height": 34
        },
        "outputId": "e37a821d-b074-4de2-96d7-e7002b5ebf17"
      },
      "source": [
        "np.mean(daily_sample1)"
      ],
      "execution_count": 48,
      "outputs": [
        {
          "output_type": "execute_result",
          "data": {
            "text/plain": [
              "173.47911444163503"
            ]
          },
          "metadata": {
            "tags": []
          },
          "execution_count": 48
        }
      ]
    },
    {
      "cell_type": "markdown",
      "metadata": {
        "id": "x3xXuIJDX_1c",
        "colab_type": "text"
      },
      "source": [
        "And if we went out and repeated this experiment?"
      ]
    },
    {
      "cell_type": "code",
      "metadata": {
        "id": "vf0K-lgwX_1e",
        "colab_type": "code",
        "colab": {}
      },
      "source": [
        "daily_sample2 = townsfolk_sampler(10)"
      ],
      "execution_count": 0,
      "outputs": []
    },
    {
      "cell_type": "code",
      "metadata": {
        "id": "aV0l1Y8GX_1k",
        "colab_type": "code",
        "colab": {
          "base_uri": "https://localhost:8080/",
          "height": 34
        },
        "outputId": "665306a2-5579-437a-efbb-baf6d877e791"
      },
      "source": [
        "np.mean(daily_sample2)"
      ],
      "execution_count": 50,
      "outputs": [
        {
          "output_type": "execute_result",
          "data": {
            "text/plain": [
              "173.7317666636263"
            ]
          },
          "metadata": {
            "tags": []
          },
          "execution_count": 50
        }
      ]
    },
    {
      "cell_type": "markdown",
      "metadata": {
        "id": "LoBzLouBX_1y",
        "colab_type": "text"
      },
      "source": [
        "__Q:__ Simulate performing this random trial every day for a year, calculating the mean of each daily sample of 10, and plot the resultant sampling distribution of the mean."
      ]
    },
    {
      "cell_type": "markdown",
      "metadata": {
        "id": "zAVAecDZX_11",
        "colab_type": "text"
      },
      "source": [
        "__A:__"
      ]
    },
    {
      "cell_type": "code",
      "metadata": {
        "id": "RxCUZchnX_12",
        "colab_type": "code",
        "colab": {}
      },
      "source": [
        "#mean of daily sample trial of 10\n",
        "def mean_sample():\n",
        "    return np.mean(townsfolk_sampler(10))"
      ],
      "execution_count": 0,
      "outputs": []
    },
    {
      "cell_type": "code",
      "metadata": {
        "id": "QJ7i1HA0X_1-",
        "colab_type": "code",
        "colab": {}
      },
      "source": [
        "seed(47)\n",
        "# take your samples here\n",
        "samp_dist = np.array([mean_sample() for _ in range(364)])"
      ],
      "execution_count": 0,
      "outputs": []
    },
    {
      "cell_type": "code",
      "metadata": {
        "id": "9ctKrAZcX_2H",
        "colab_type": "code",
        "colab": {
          "base_uri": "https://localhost:8080/",
          "height": 265
        },
        "outputId": "7b4e7dc7-239c-4b05-af4a-9ffe3e3ce95b"
      },
      "source": [
        "_ = plt.hist(samp_dist, bins=365)"
      ],
      "execution_count": 53,
      "outputs": [
        {
          "output_type": "display_data",
          "data": {
            "image/png": "[encoded data removed]",
            "text/plain": [
              "<Figure size 432x288 with 1 Axes>"
            ]
          },
          "metadata": {
            "tags": []
          }
        }
      ]
    },
    {
      "cell_type": "markdown",
      "metadata": {
        "id": "wfepF4OUX_2S",
        "colab_type": "text"
      },
      "source": [
        "The above is the distribution of the means of samples of size 10 taken from our population. The Central Limit Theorem tells us the expected mean of this distribution will be equal to the population mean, and standard deviation will be $\\sigma / \\sqrt n$, which, in this case, should be approximately 1.58."
      ]
    },
    {
      "cell_type": "markdown",
      "metadata": {
        "id": "2FlTXXMnX_2T",
        "colab_type": "text"
      },
      "source": [
        "__Q:__ Verify the above results from the CLT."
      ]
    },
    {
      "cell_type": "markdown",
      "metadata": {
        "id": "fw0W-q0EX_2W",
        "colab_type": "text"
      },
      "source": [
        "__A:__ The following values were observed:\n",
        "        #1\n",
        "        expected mean = 171.8666124239471\n",
        "        population mean = 172\n",
        "        #2\n",
        "        sample std deviation = 1.579962396347708\n",
        "        std deviation of the the sample distribution= 1.5811388300841895\n",
        "        \n",
        "   The observations are in accordance with CLT"
      ]
    },
    {
      "cell_type": "code",
      "metadata": {
        "id": "vH4fVRwWX_2Y",
        "colab_type": "code",
        "colab": {
          "base_uri": "https://localhost:8080/",
          "height": 51
        },
        "outputId": "335a99ba-5b97-466a-c262-ea3ab2909e0c"
      },
      "source": [
        "samp_mean = np.mean(samp_dist)\n",
        "print(\"expected mean = {}\".format(samp_mean))\n",
        "print(\"population mean = 172\")"
      ],
      "execution_count": 54,
      "outputs": [
        {
          "output_type": "stream",
          "text": [
            "expected mean = 171.8666124239471\n",
            "population mean = 172\n"
          ],
          "name": "stdout"
        }
      ]
    },
    {
      "cell_type": "code",
      "metadata": {
        "id": "fiPtzw0zX_2g",
        "colab_type": "code",
        "colab": {
          "base_uri": "https://localhost:8080/",
          "height": 68
        },
        "outputId": "6099060e-8301-493d-a6ae-7f2fb2a82394"
      },
      "source": [
        "#sample standard deviation\n",
        "samp_std = np.std(samp_dist, ddof=1)\n",
        "#standard deviation of the means of the sample distribution\n",
        "samp_std_dist = 5 / np.sqrt(10)\n",
        "\n",
        "print(\"sample std deviation = {}\".format(samp_std))\n",
        "print(\"std deviation of the the sample distribution= {}\".format(samp_std_dist))\n",
        "print(\"population std deviation = 5\")"
      ],
      "execution_count": 55,
      "outputs": [
        {
          "output_type": "stream",
          "text": [
            "sample std deviation = 1.579962396347708\n",
            "std deviation of the the sample distribution= 1.5811388300841895\n",
            "population std deviation = 5\n"
          ],
          "name": "stdout"
        }
      ]
    },
    {
      "cell_type": "markdown",
      "metadata": {
        "id": "oWafh55WX_2n",
        "colab_type": "text"
      },
      "source": [
        "Remember, in this instance, we knew our population parameters, that the average height really is 172 cm and the standard deviation is 5 cm, and we see some of our daily estimates of the population mean were as low as around 168 and some as high as 176."
      ]
    },
    {
      "cell_type": "markdown",
      "metadata": {
        "id": "PGGGVqSPX_2p",
        "colab_type": "text"
      },
      "source": [
        "__Q:__ Repeat the above year's worth of samples but for a sample size of 50 (perhaps you had a bigger budget for conducting surveys that year!) Would you expect your distribution of sample means to be wider (more variable) or narrower (more consistent)? Compare your resultant summary statistics to those predicted by the CLT."
      ]
    },
    {
      "cell_type": "markdown",
      "metadata": {
        "id": "20hmfGDyX_2r",
        "colab_type": "text"
      },
      "source": [
        "__A:__ I expected the distribution of sample means to be narrower(more consistent). From the comparisons against CLT estimates, it seems to become true for mean, but not quite for standard deviation when compared to earlier sample size of 50. Could the seed chosen be the reason?\n",
        "    #obs\n",
        "        expected mean = 171.94134101349712\n",
        "        population mean = 172\n",
        "        sample std deviation = 0.6740043136339847\n",
        "        std deviation of the the sample distribution= 0.7071067811865475\n",
        "        population std deviation = 5"
      ]
    },
    {
      "cell_type": "code",
      "metadata": {
        "id": "S8RcsmHqX_2s",
        "colab_type": "code",
        "colab": {}
      },
      "source": [
        "seed(47)\n",
        "# calculate daily means from the larger sample size here\n",
        "#mean of daily sample trial of 50\n",
        "def mean_sample_50():\n",
        "    return np.mean(townsfolk_sampler(50))\n",
        "samp_dist_50 = np.array([mean_sample_50() for _ in range(364)])"
      ],
      "execution_count": 0,
      "outputs": []
    },
    {
      "cell_type": "code",
      "metadata": {
        "id": "onwIY0V7X_2y",
        "colab_type": "code",
        "colab": {
          "base_uri": "https://localhost:8080/",
          "height": 102
        },
        "outputId": "f6b1a349-54f0-4785-f6f5-7fed5945b419"
      },
      "source": [
        "#Expected and population means\n",
        "samp_mean_50 = np.mean(samp_dist_50)\n",
        "print(\"expected mean = {}\".format(samp_mean_50))\n",
        "print(\"population mean = 172\")\n",
        "\n",
        "#sample standard deviation for samples of trials of 50 heights\n",
        "samp_std_50 = np.std(samp_dist_50, ddof=1)\n",
        "#standard deviation of the means of the sample distribution\n",
        "samp_std_dist_50 = 5 / np.sqrt(50)\n",
        "\n",
        "print(\"sample std deviation = {}\".format(samp_std_50))\n",
        "print(\"std deviation of the the sample distribution= {}\".format(samp_std_dist_50))\n",
        "print(\"population std deviation = 5\")"
      ],
      "execution_count": 57,
      "outputs": [
        {
          "output_type": "stream",
          "text": [
            "expected mean = 171.94134101349712\n",
            "population mean = 172\n",
            "sample std deviation = 0.6740043136339847\n",
            "std deviation of the the sample distribution= 0.7071067811865475\n",
            "population std deviation = 5\n"
          ],
          "name": "stdout"
        }
      ]
    },
    {
      "cell_type": "markdown",
      "metadata": {
        "id": "KpwEb5wHX_3C",
        "colab_type": "text"
      },
      "source": [
        "What we've seen so far, then, is that we can estimate population parameters from a sample from the population, and that samples have their own distributions. Furthermore, the larger the sample size, the narrower are those sampling distributions."
      ]
    },
    {
      "cell_type": "markdown",
      "metadata": {
        "id": "2zVJi0haX_3E",
        "colab_type": "text"
      },
      "source": [
        "### III Normally testing times!"
      ]
    },
    {
      "cell_type": "markdown",
      "metadata": {
        "id": "4t6Ixo_vX_3G",
        "colab_type": "text"
      },
      "source": [
        "All of the above is well and good. We've been sampling from a population we know is normally distributed, we've come to understand when to use $n$ and when to use $n-1$ in the denominator to calculate the spread of a distribution, and we've  seen the Central Limit Theorem in action for a sampling distribution. All seems very well behaved in Frequentist land. But, well, why should we really care?"
      ]
    },
    {
      "cell_type": "markdown",
      "metadata": {
        "id": "quJmHE2gX_3H",
        "colab_type": "text"
      },
      "source": [
        "Remember, we rarely (if ever) actually know our population parameters but you still have to estimate them somehow. If we want to make inferences such as \"is this observation unusual?\" or \"has my population mean changed?\" then you need to have some idea of what the underlying distribution is so you can calculate relevant probabilities. In frequentist inference, you use the formulas above to deduce these population parameters. Take a moment in the next part of this assignment to refresh your understanding of how these probabilities work."
      ]
    },
    {
      "cell_type": "markdown",
      "metadata": {
        "id": "oZ_3EHhrX_3J",
        "colab_type": "text"
      },
      "source": [
        "Recall some basic properties of the standard Normal distribution, such as about 68% of observations being within plus or minus 1 standard deviation of the mean.\n",
        "\n",
        "__Q:__ Using this fact, calculate the probability of observing the value 1 or less in a single observation from the standard normal distribution. Hint: you may find it helpful to sketch the standard normal distribution (the familiar bell shape) and mark the number of standard deviations from the mean on the x-axis and shade the regions of the curve that contain certain percentages of the population."
      ]
    },
    {
      "cell_type": "markdown",
      "metadata": {
        "id": "f8Eb0672X_3M",
        "colab_type": "text"
      },
      "source": [
        "__A:__Probability of getting value 1 or less from pdf = 0.8427999999999995"
      ]
    },
    {
      "cell_type": "markdown",
      "metadata": {
        "id": "_adrSHc-X_3R",
        "colab_type": "text"
      },
      "source": [
        "Calculating this probability involved calculating the area under the pdf from the value of 1 and below. To put it another way, we need to integrate the pdf. We could just add together the known areas of chunks (from -Inf to 0 and then 0 to $+\\sigma$ in the example above. One way to do this is using look up tables (literally). Fortunately, scipy has this functionality built in with the cdf() function."
      ]
    },
    {
      "cell_type": "markdown",
      "metadata": {
        "id": "4vLtOsPCX_3T",
        "colab_type": "text"
      },
      "source": [
        "__Q:__ Use the cdf() function to answer the question above again and verify you get the same answer."
      ]
    },
    {
      "cell_type": "markdown",
      "metadata": {
        "id": "GFmh2Gg7X_3W",
        "colab_type": "text"
      },
      "source": [
        "__A:__Probability of getting value 1 or less using cdf function = 0.8413447460685429. This value matches the value obtained by calculating area to a precision of 2 decimal points"
      ]
    },
    {
      "cell_type": "code",
      "metadata": {
        "id": "JyVHjcV2X_3Y",
        "colab_type": "code",
        "colab": {
          "base_uri": "https://localhost:8080/",
          "height": 299
        },
        "outputId": "fd17b879-878b-448a-e504-8b909ec56ebd"
      },
      "source": [
        "seed(47)\n",
        "#Standard normal distribution of 10000\n",
        "data = np.random.standard_normal(10000)\n",
        "\n",
        "#number of bins is just the diff between the last and the first datapoint as the standard deviation is 1\n",
        "#and round to the nearest integer\n",
        "bins = np.rint(np.max(data) - np.min(data))\n",
        "\n",
        "#Consider 100 times more bins for increased precision of calculation of area under pdf\n",
        "bins = int(bins) * 100\n",
        "\n",
        "#plot the histogram\n",
        "heights, binedges, patches = plt.hist(data, density='True', bins=bins, alpha=0.4)\n",
        "\n",
        "#Draw axvline at x=1 to demarcate the point @ standard deviation 1 \n",
        "_ = plt.axvline(1, color='k')\n",
        "\n",
        "#Calculate the number of bins to the left of the one including the data point 1\n",
        "for leftbins, binedge in enumerate(binedges):\n",
        "    if binedge > 1.0:\n",
        "        break\n",
        "\n",
        "#Color all the bins left to the bin containing data point 1 \n",
        "for i in range(leftbins):\n",
        "    patches[i].set_color('r') \n",
        "    \n",
        "\n",
        "#a function to calculate the area of a bin based on the bin number\n",
        "def bin_area(bin_number):\n",
        "    return (binedges[bin_number + 1] - binedges[bin_number]) * heights[bin_number]\n",
        "\n",
        "#Probability of observing the value 1 or less is the area under the curve on the left of x = 1\n",
        "#This can be calculated as sum of all area of individual bins until x = 1\n",
        "p1orless = sum([bin_area(i) for i in range(leftbins)])\n",
        "print(\"Probability of getting value 1 or less from pdf = {}\".format(p1orless))\n",
        "\n",
        "#The same probability calculated using the cdf function\n",
        "print(\"Probability of getting value 1 or less using cdf function = {}\".format(norm.cdf(1)))"
      ],
      "execution_count": 58,
      "outputs": [
        {
          "output_type": "stream",
          "text": [
            "Probability of getting value 1 or less from pdf = 0.8427999999999995\n",
            "Probability of getting value 1 or less using cdf function = 0.8413447460685429\n"
          ],
          "name": "stdout"
        },
        {
          "output_type": "display_data",
          "data": {
            "image/png": "[encoded data removed]",
            "text/plain": [
              "<Figure size 432x288 with 1 Axes>"
            ]
          },
          "metadata": {
            "tags": []
          }
        }
      ]
    },
    {
      "cell_type": "markdown",
      "metadata": {
        "id": "xJ_lZm1uX_3u",
        "colab_type": "text"
      },
      "source": [
        "\n",
        "__Q:__ Using our knowledge of the population parameters for our townsfolk's heights, what is the probability of selecting one person at random and their height being 177 cm or less? Calculate this using both of the approaches given above."
      ]
    },
    {
      "cell_type": "markdown",
      "metadata": {
        "id": "n5IpSfwoX_3z",
        "colab_type": "text"
      },
      "source": [
        "__A:__\n",
        "        #Values:\n",
        "        Probability of getting height 177 cm or less from pdf = 0.9993999999999973\n",
        "        Probability of getting height 177 cm or less using cdf function = 0.9994161187178932"
      ]
    },
    {
      "cell_type": "code",
      "metadata": {
        "id": "Hfhu9cOLX_31",
        "colab_type": "code",
        "colab": {
          "base_uri": "https://localhost:8080/",
          "height": 51
        },
        "outputId": "9b834a03-c98f-434f-fe1a-efb9bb4d8ca9"
      },
      "source": [
        "#First let's calculate how many standard deviations away from mean in 177 cm (we'll use the 10 samples' mean distribution)\n",
        "#This will help us standardize the distribution parameters (convert to 0 mean and unit variance)\n",
        "num_std = (177 - samp_mean)/samp_std_dist\n",
        "\n",
        "#Now that we standardized the distribution parameters, we can use calculate the number of bins until num_std like before\n",
        "#I.e., calculate the number of bins to the left of the one including the data point num_std\n",
        "for leftbins, binedge in enumerate(binedges):\n",
        "    if binedge > num_std:\n",
        "        break\n",
        "        \n",
        "#Following suite like before:\n",
        "#Probability of observing the value num_std or less is the area under the curve on the left of x = num_std\n",
        "#This can be calculated as sum of all area of individual bins until x = num_std\n",
        "pnum_stdorless = sum([bin_area(i) for i in range(leftbins)])\n",
        "print(\"Probability of getting height 177 cm or less from pdf = {}\".format(pnum_stdorless))\n",
        "\n",
        "#The same probability calculated using the cdf function\n",
        "print(\"Probability of getting height 177 cm or less using cdf function = {}\".format(norm.cdf(num_std)))"
      ],
      "execution_count": 59,
      "outputs": [
        {
          "output_type": "stream",
          "text": [
            "Probability of getting height 177 cm or less from pdf = 0.9993999999999973\n",
            "Probability of getting height 177 cm or less using cdf function = 0.9994161187178932\n"
          ],
          "name": "stdout"
        }
      ]
    },
    {
      "cell_type": "markdown",
      "metadata": {
        "id": "_wS0bbY6X_4E",
        "colab_type": "text"
      },
      "source": [
        "__Q:__ Turning this question around. Let's say we randomly pick one person and measure their height and find they are 2.00 m tall? How surprised should we be at this result, given what we know about the population distribution? In other words, how likely would it be to obtain a value at least as extreme as this? Express this as a probability."
      ]
    },
    {
      "cell_type": "markdown",
      "metadata": {
        "id": "idLeviydX_4H",
        "colab_type": "text"
      },
      "source": [
        "__A:__\n",
        "    #\n",
        "    Probability of getting height as extreme as 2.00 m = 2.7755575615628914e-15"
      ]
    },
    {
      "cell_type": "code",
      "metadata": {
        "id": "DObyVPdEX_4K",
        "colab_type": "code",
        "colab": {
          "base_uri": "https://localhost:8080/",
          "height": 51
        },
        "outputId": "494ead9a-8b6c-407e-c3bd-a471a1c07d14"
      },
      "source": [
        "#Number of standard deviations away from the mean an 2.00 m tall person is:\n",
        "num_std_200 = (200 - samp_mean)/samp_std_dist\n",
        "\n",
        "#Now that we standardized the distribution parameters, we can use calculate the number of bins until num_std like before\n",
        "#I.e., calculate the number of bins to the left of the one including the data point num_std\n",
        "for leftbins, binedge in enumerate(binedges):\n",
        "    if binedge > num_std_200:\n",
        "        break\n",
        "        \n",
        "#Following suite like before:\n",
        "#Probability of observing the value num_std_200 or less is the area under the curve on the left of x = num_std_200\n",
        "#This can be calculated as sum of all area of individual bins until x = num_std\n",
        "pnum_std200orless = sum([bin_area(i) for i in range(leftbins)])\n",
        "\n",
        "#Probability of getting a value as extreme as 2.00 m = 1 - pnum_std200orless\n",
        "p_extremityof200pdf = 1 - pnum_std200orless\n",
        "print(\"Probability of getting height as extreme as 2.00 m from pdf = {}\".format(p_extremityof200pdf))\n",
        "\n",
        "#CDF at 2.00 m\n",
        "cdf_200 = norm.cdf(num_std_200)\n",
        "#Probability of getting a value as extreme as 2.00 m = 1 - CDF at 2.00 m\n",
        "p_extremityof200 = 1 - cdf_200\n",
        "\n",
        "print(\"Probability of getting height as extreme as 2.00 m using cdf function = {}\".format(p_extremityof200))"
      ],
      "execution_count": 60,
      "outputs": [
        {
          "output_type": "stream",
          "text": [
            "Probability of getting height as extreme as 2.00 m from pdf = 2.7755575615628914e-15\n",
            "Probability of getting height as extreme as 2.00 m using cdf function = 0.0\n"
          ],
          "name": "stdout"
        }
      ]
    },
    {
      "cell_type": "markdown",
      "metadata": {
        "id": "gC7R-8BeX_4T",
        "colab_type": "text"
      },
      "source": [
        "\n",
        "We could calculate this probability by virtue of knowing the population parameters. We were then able to use the known properties of the relevant normal distribution to calculate the probability of observing a value at least as extreme as our test value. We have essentially just performed a z-test (albeit without having prespecified a threshold for our \"level of surprise\")!"
      ]
    },
    {
      "cell_type": "markdown",
      "metadata": {
        "id": "4ISzd1W9X_4U",
        "colab_type": "text"
      },
      "source": [
        "We're about to come to a pinch, though here. We've said a couple of times that we rarely, if ever, know the true population parameters; we have to estimate them from our sample and we cannot even begin to estimate the standard deviation from a single observation. This is very true and usually we have sample sizes larger than one. This means we can calculate the mean of the sample as our best estimate of the population mean and the standard deviation as our best estimate of the population standard deviation. In other words, we are now coming to deal with the sampling distributions we mentioned above as we are generally concerned with the properties of the sample means we obtain.\n",
        "\n",
        "Above, we highlighted one result from the CLT, whereby the sampling distribution (of the mean) becomes narrower and narrower with the square root of the sample size. We remind ourselves that another result from the CLT is that _even if the underlying population distribution is not normal, the sampling distribution will tend to become normal with sufficiently large sample size_. This is the key driver for us 'requiring' a certain sample size, for example you may frequently see a minimum sample size of 30 stated in many places. In reality this is simply a rule of thumb; if the underlying distribution is approximately normal then your sampling distribution will already be pretty normal, but if the underlying distribution is heavily skewed then you'd want to increase your sample size."
      ]
    },
    {
      "cell_type": "markdown",
      "metadata": {
        "id": "le3M0jkAX_4V",
        "colab_type": "text"
      },
      "source": [
        "__Q:__ Let's now start from the position of knowing nothing about the heights of people in our town.\n",
        "* Use our favorite random seed of 47, to randomly sample the heights of 50 townsfolk\n",
        "* Estimate the population mean using np.mean\n",
        "* Estimate the population standard deviation using np.std (remember which denominator to use!)\n",
        "* Calculate the (95%) [margin of error](https://www.statisticshowto.datasciencecentral.com/probability-and-statistics/hypothesis-testing/margin-of-error/#WhatMofE) (use the exact critial z value to 2 decimal places - [look this up](https://www.statisticshowto.datasciencecentral.com/probability-and-statistics/find-critical-values/) or use norm.ppf())\n",
        "* Calculate the 95% Confidence Interval of the mean\n",
        "* Does this interval include the true population mean?"
      ]
    },
    {
      "cell_type": "markdown",
      "metadata": {
        "id": "qTDTVn5jX_4X",
        "colab_type": "text"
      },
      "source": [
        "__A:__\n",
        "\n",
        "\n",
        "        . sampled heights of 50 townsfolk with a random seed of 47\n",
        "        . population mean = 172.7815108576788\n",
        "        . population standard deviation = 4.195424364433547\n",
        "        . margin of error = 8.222880654151599\n",
        "        . 95% confidence interval of the mean = (164.5586302035272, 181.0043915118304)\n",
        "        . This interval includes the true population mean"
      ]
    },
    {
      "cell_type": "code",
      "metadata": {
        "id": "BKuyyq76X_4Z",
        "colab_type": "code",
        "colab": {}
      },
      "source": [
        "seed(47)\n",
        "# take your sample now\n",
        "sample_50 = townsfolk_sampler(50)"
      ],
      "execution_count": 0,
      "outputs": []
    },
    {
      "cell_type": "code",
      "metadata": {
        "id": "8XSg6N6aX_4d",
        "colab_type": "code",
        "colab": {
          "base_uri": "https://localhost:8080/",
          "height": 34
        },
        "outputId": "4475f676-35d6-4ef0-f644-f6b600231fef"
      },
      "source": [
        "#population mean = expected mean\n",
        "popmean_sample_50 = np.mean(sample_50)\n",
        "print('population mean = {}'.format(popmean_sample_50))"
      ],
      "execution_count": 62,
      "outputs": [
        {
          "output_type": "stream",
          "text": [
            "population mean = 172.7815108576788\n"
          ],
          "name": "stdout"
        }
      ]
    },
    {
      "cell_type": "code",
      "metadata": {
        "id": "6DRGGy8QX_4j",
        "colab_type": "code",
        "colab": {
          "base_uri": "https://localhost:8080/",
          "height": 34
        },
        "outputId": "bd89f3b3-7243-4099-8b81-02fc7998cb08"
      },
      "source": [
        "#population standard deviation\n",
        "popstd_sample_50 = np.std(sample_50, ddof=1)\n",
        "print('population standard deviation = {}'.format(popstd_sample_50))"
      ],
      "execution_count": 63,
      "outputs": [
        {
          "output_type": "stream",
          "text": [
            "population standard deviation = 4.195424364433547\n"
          ],
          "name": "stdout"
        }
      ]
    },
    {
      "cell_type": "code",
      "metadata": {
        "id": "SWFGkqcOX_4r",
        "colab_type": "code",
        "colab": {
          "base_uri": "https://localhost:8080/",
          "height": 34
        },
        "outputId": "28f00b3b-93e0-40af-f2f3-d50e3a9ed144"
      },
      "source": [
        "#alpha level = area right to the right bound of the 95% confidence interval,\n",
        "#or the area under the right tail which is given by (1-0.95)/2 = 0.025.\n",
        "\n",
        "#calculate the z-score for the area to the left of the alpha level, i.e., 1 - 0.025 = 0.975\n",
        "#This value represents the number of standard deviations from mean in the alpha level\n",
        "#This is also the critical value\n",
        "crit = zscore = norm.ppf(0.975)\n",
        "\n",
        "#margin of error = critical value * population standard deviation\n",
        "moe = crit * popstd_sample_50\n",
        "print(\"margin of error = {}\".format(moe))"
      ],
      "execution_count": 64,
      "outputs": [
        {
          "output_type": "stream",
          "text": [
            "margin of error = 8.222880654151599\n"
          ],
          "name": "stdout"
        }
      ]
    },
    {
      "cell_type": "code",
      "metadata": {
        "id": "073YW4-bX_4x",
        "colab_type": "code",
        "colab": {
          "base_uri": "https://localhost:8080/",
          "height": 68
        },
        "outputId": "77126a96-cfab-4c8c-a573-4fc097f8138e"
      },
      "source": [
        "#margin of error interval = mean - moe, mean + moe\n",
        "interval = popmean_sample_50 - moe, popmean_sample_50 + moe\n",
        "print(\"95% confidence interval of the mean = {}\".format(interval))\n",
        "\n",
        "#recalculating from basics:\n",
        "#95% confidence interval of the mean is the area(0.95) in the range covered by the zscores corresponding to:\n",
        "#(1-0.95)/2 = 0.025 and 1-(1-0.95)/2 = 0.975\n",
        "zscore1 = norm.ppf(0.025)\n",
        "zscore2 = norm.ppf(0.975)\n",
        "leftbound = zscore1 * popstd_sample_50 + popmean_sample_50\n",
        "rightbound = zscore2 * popstd_sample_50 + popmean_sample_50\n",
        "print(\"95% confidence interval of the mean from basics = {}\".format((leftbound, rightbound)))\n",
        "print(\"match!!!\")"
      ],
      "execution_count": 65,
      "outputs": [
        {
          "output_type": "stream",
          "text": [
            "95% confidence interval of the mean = (164.5586302035272, 181.0043915118304)\n",
            "95% confidence interval of the mean from basics = (164.5586302035272, 181.0043915118304)\n",
            "match!!!\n"
          ],
          "name": "stdout"
        }
      ]
    },
    {
      "cell_type": "markdown",
      "metadata": {
        "id": "MOMLajmvX_43",
        "colab_type": "text"
      },
      "source": [
        "__Q:__ Above we calculated the confidence interval using the critical z value. What is the problem with this? What requirement, or requirements, are we (strictly) failing?"
      ]
    },
    {
      "cell_type": "markdown",
      "metadata": {
        "id": "m3sKXATsX_44",
        "colab_type": "text"
      },
      "source": [
        "__A:__ We have the assumption that the underlying distribution is normal. We assume that the sample of 50 values is a true representation of the whole population "
      ]
    },
    {
      "cell_type": "markdown",
      "metadata": {
        "id": "KWRGnATcX_45",
        "colab_type": "text"
      },
      "source": [
        "__Q:__ Calculate the 95% confidence interval for the mean using the _t_ distribution. Is this wider or narrower than that based on the normal distribution above? If you're unsure, you may find this [resource](https://www.statisticshowto.datasciencecentral.com/probability-and-statistics/confidence-interval/) useful. For calculating the critical value, remember how you could calculate this for the normal distribution using norm.ppf()."
      ]
    },
    {
      "cell_type": "markdown",
      "metadata": {
        "id": "NCzDv_upX_46",
        "colab_type": "text"
      },
      "source": [
        "__A:__\n",
        "\n",
        "\n",
        "        95% confidence interval of the mean for t distribution = (164.35048995674052, 181.21253175861708)\n",
        "        It is wider than the one based on normal distribution above"
      ]
    },
    {
      "cell_type": "code",
      "metadata": {
        "id": "by0-mEeNX_47",
        "colab_type": "code",
        "colab": {}
      },
      "source": [
        "#zscore of the t-distribution for 95% confidence interval\n",
        "alpha = 1 - ((1-0.95)/2)\n",
        "crit_t = zscore_t = t.ppf(alpha, 49)"
      ],
      "execution_count": 0,
      "outputs": []
    },
    {
      "cell_type": "code",
      "metadata": {
        "id": "GaYtqKtNX_5D",
        "colab_type": "code",
        "colab": {}
      },
      "source": [
        "#margin of error = standard deviation * critical value\n",
        "moe_t = popstd_sample_50 * crit_t"
      ],
      "execution_count": 0,
      "outputs": []
    },
    {
      "cell_type": "code",
      "metadata": {
        "id": "Wisp4SnHX_5L",
        "colab_type": "code",
        "colab": {
          "base_uri": "https://localhost:8080/",
          "height": 34
        },
        "outputId": "5ffc2109-2cac-4ab9-87a0-e16bd09962bd"
      },
      "source": [
        "#95% confidence interval\n",
        "interval_t = popmean_sample_50 - moe_t, popmean_sample_50 + moe_t\n",
        "print(\"95% confidence interval of the mean for t distribution = {}\".format(interval_t))"
      ],
      "execution_count": 68,
      "outputs": [
        {
          "output_type": "stream",
          "text": [
            "95% confidence interval of the mean for t distribution = (164.35048995674052, 181.21253175861708)\n"
          ],
          "name": "stdout"
        }
      ]
    },
    {
      "cell_type": "markdown",
      "metadata": {
        "id": "VuYpuMW0X_5Q",
        "colab_type": "text"
      },
      "source": [
        "This is slightly wider than the previous confidence interval. This reflects the greater uncertainty given that we are estimating population parameters from a sample."
      ]
    },
    {
      "cell_type": "markdown",
      "metadata": {
        "id": "P0x7mrbZX_5R",
        "colab_type": "text"
      },
      "source": [
        "## Learning outcomes"
      ]
    },
    {
      "cell_type": "markdown",
      "metadata": {
        "id": "W7rJddP_X_5V",
        "colab_type": "text"
      },
      "source": [
        "Having completed this project notebook, you now have hands-on experience:\n",
        "* sampling and calculating probabilities from a normal distribution\n",
        "* the correct way to estimate the standard deviation of a population (the population parameter) from a sample\n",
        "* what a sampling distribution is and how the Central Limit Theorem applies\n",
        "* how to calculate critical values and confidence intervals"
      ]
    }
  ]
}